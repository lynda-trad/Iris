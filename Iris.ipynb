{
 "cells": [
  {
   "cell_type": "markdown",
   "id": "3e92ba66",
   "metadata": {
    "heading_collapsed": true
   },
   "source": [
    "# Iris"
   ]
  },
  {
   "cell_type": "markdown",
   "id": "e9b1d87b",
   "metadata": {
    "hidden": true
   },
   "source": [
    "We are given a dataset in which are registered flowers and their caracteristics.\n",
    "We have to classify the said flowers in different groups thanks to machine learning."
   ]
  },
  {
   "cell_type": "markdown",
   "id": "cf17d273",
   "metadata": {},
   "source": [
    "# Summary"
   ]
  },
  {
   "cell_type": "markdown",
   "id": "c58d798e",
   "metadata": {},
   "source": [
    "* Sepal length, width and species correlation\n",
    "* Petal length, width and species correlation\n",
    "* Global correlation box\n",
    "\n",
    "\n",
    "Classification:\n",
    "* Logistic Regression\n",
    "* Decision Tree\n",
    "* Random Forest\n",
    "* XGBoost\n",
    "\n",
    "Clustering:\n",
    "* KMeans\n",
    "* DBScan\n",
    "* Agglomerative Clustering"
   ]
  },
  {
   "cell_type": "markdown",
   "id": "c0170cb8",
   "metadata": {},
   "source": [
    "# Library used"
   ]
  },
  {
   "cell_type": "code",
   "execution_count": 1,
   "id": "31aad0c1",
   "metadata": {
    "ExecuteTime": {
     "end_time": "2022-02-10T13:11:40.750162Z",
     "start_time": "2022-02-10T13:11:28.281813Z"
    },
    "collapsed": true
   },
   "outputs": [
    {
     "name": "stderr",
     "output_type": "stream",
     "text": [
      "d:\\tradl\\work\\iris\\venv\\lib\\site-packages\\xgboost\\compat.py:36: FutureWarning: pandas.Int64Index is deprecated and will be removed from pandas in a future version. Use pandas.Index with the appropriate dtype instead.\n",
      "  from pandas import MultiIndex, Int64Index\n"
     ]
    }
   ],
   "source": [
    "import numpy as np\n",
    "import pandas as pd\n",
    "from matplotlib import pyplot as plt\n",
    "import seaborn as sns\n",
    "\n",
    "# Machine Learning Library\n",
    "from sklearn.metrics import multilabel_confusion_matrix, classification_report, accuracy_score, precision_score\n",
    "from sklearn.model_selection import train_test_split, cross_val_score\n",
    "import joblib\n",
    "\n",
    "# Classification\n",
    "from sklearn.linear_model import LogisticRegression\n",
    "from sklearn import tree\n",
    "from sklearn.tree import DecisionTreeClassifier\n",
    "from sklearn.ensemble import RandomForestClassifier\n",
    "import xgboost as xgb\n",
    "\n",
    "# Clustering\n",
    "from sklearn.preprocessing import LabelEncoder, StandardScaler\n",
    "from sklearn.cluster import KMeans, DBSCAN, AgglomerativeClustering\n",
    "from sklearn.metrics import silhouette_score, calinski_harabasz_score, davies_bouldin_score\n",
    "\n",
    "from warnings import filterwarnings\n",
    "filterwarnings('ignore')"
   ]
  },
  {
   "cell_type": "markdown",
   "id": "70da574b",
   "metadata": {
    "heading_collapsed": true
   },
   "source": [
    "## Importing the data"
   ]
  },
  {
   "cell_type": "code",
   "execution_count": 2,
   "id": "fd369922",
   "metadata": {
    "ExecuteTime": {
     "end_time": "2022-02-10T13:11:40.811951Z",
     "start_time": "2022-02-10T13:11:40.752110Z"
    },
    "hidden": true
   },
   "outputs": [
    {
     "data": {
      "text/html": [
       "<div>\n",
       "<style scoped>\n",
       "    .dataframe tbody tr th:only-of-type {\n",
       "        vertical-align: middle;\n",
       "    }\n",
       "\n",
       "    .dataframe tbody tr th {\n",
       "        vertical-align: top;\n",
       "    }\n",
       "\n",
       "    .dataframe thead th {\n",
       "        text-align: right;\n",
       "    }\n",
       "</style>\n",
       "<table border=\"1\" class=\"dataframe\">\n",
       "  <thead>\n",
       "    <tr style=\"text-align: right;\">\n",
       "      <th></th>\n",
       "      <th>sepal_length</th>\n",
       "      <th>sepal_width</th>\n",
       "      <th>petal_length</th>\n",
       "      <th>petal_width</th>\n",
       "      <th>species</th>\n",
       "    </tr>\n",
       "  </thead>\n",
       "  <tbody>\n",
       "    <tr>\n",
       "      <th>0</th>\n",
       "      <td>5.1</td>\n",
       "      <td>3.5</td>\n",
       "      <td>1.4</td>\n",
       "      <td>0.2</td>\n",
       "      <td>setosa</td>\n",
       "    </tr>\n",
       "    <tr>\n",
       "      <th>1</th>\n",
       "      <td>4.9</td>\n",
       "      <td>3.0</td>\n",
       "      <td>1.4</td>\n",
       "      <td>0.2</td>\n",
       "      <td>setosa</td>\n",
       "    </tr>\n",
       "    <tr>\n",
       "      <th>2</th>\n",
       "      <td>4.7</td>\n",
       "      <td>3.2</td>\n",
       "      <td>1.3</td>\n",
       "      <td>0.2</td>\n",
       "      <td>setosa</td>\n",
       "    </tr>\n",
       "    <tr>\n",
       "      <th>3</th>\n",
       "      <td>4.6</td>\n",
       "      <td>3.1</td>\n",
       "      <td>1.5</td>\n",
       "      <td>0.2</td>\n",
       "      <td>setosa</td>\n",
       "    </tr>\n",
       "    <tr>\n",
       "      <th>4</th>\n",
       "      <td>5.0</td>\n",
       "      <td>3.6</td>\n",
       "      <td>1.4</td>\n",
       "      <td>0.2</td>\n",
       "      <td>setosa</td>\n",
       "    </tr>\n",
       "    <tr>\n",
       "      <th>...</th>\n",
       "      <td>...</td>\n",
       "      <td>...</td>\n",
       "      <td>...</td>\n",
       "      <td>...</td>\n",
       "      <td>...</td>\n",
       "    </tr>\n",
       "    <tr>\n",
       "      <th>145</th>\n",
       "      <td>6.7</td>\n",
       "      <td>3.0</td>\n",
       "      <td>5.2</td>\n",
       "      <td>2.3</td>\n",
       "      <td>virginica</td>\n",
       "    </tr>\n",
       "    <tr>\n",
       "      <th>146</th>\n",
       "      <td>6.3</td>\n",
       "      <td>2.5</td>\n",
       "      <td>5.0</td>\n",
       "      <td>1.9</td>\n",
       "      <td>virginica</td>\n",
       "    </tr>\n",
       "    <tr>\n",
       "      <th>147</th>\n",
       "      <td>6.5</td>\n",
       "      <td>3.0</td>\n",
       "      <td>5.2</td>\n",
       "      <td>2.0</td>\n",
       "      <td>virginica</td>\n",
       "    </tr>\n",
       "    <tr>\n",
       "      <th>148</th>\n",
       "      <td>6.2</td>\n",
       "      <td>3.4</td>\n",
       "      <td>5.4</td>\n",
       "      <td>2.3</td>\n",
       "      <td>virginica</td>\n",
       "    </tr>\n",
       "    <tr>\n",
       "      <th>149</th>\n",
       "      <td>5.9</td>\n",
       "      <td>3.0</td>\n",
       "      <td>5.1</td>\n",
       "      <td>1.8</td>\n",
       "      <td>virginica</td>\n",
       "    </tr>\n",
       "  </tbody>\n",
       "</table>\n",
       "<p>150 rows × 5 columns</p>\n",
       "</div>"
      ],
      "text/plain": [
       "     sepal_length  sepal_width  petal_length  petal_width    species\n",
       "0             5.1          3.5           1.4          0.2     setosa\n",
       "1             4.9          3.0           1.4          0.2     setosa\n",
       "2             4.7          3.2           1.3          0.2     setosa\n",
       "3             4.6          3.1           1.5          0.2     setosa\n",
       "4             5.0          3.6           1.4          0.2     setosa\n",
       "..            ...          ...           ...          ...        ...\n",
       "145           6.7          3.0           5.2          2.3  virginica\n",
       "146           6.3          2.5           5.0          1.9  virginica\n",
       "147           6.5          3.0           5.2          2.0  virginica\n",
       "148           6.2          3.4           5.4          2.3  virginica\n",
       "149           5.9          3.0           5.1          1.8  virginica\n",
       "\n",
       "[150 rows x 5 columns]"
      ]
     },
     "execution_count": 2,
     "metadata": {},
     "output_type": "execute_result"
    }
   ],
   "source": [
    "data = sns.load_dataset(\"iris\")\n",
    "data"
   ]
  },
  {
   "cell_type": "markdown",
   "id": "74db3953",
   "metadata": {},
   "source": [
    "# Missing values"
   ]
  },
  {
   "cell_type": "code",
   "execution_count": 3,
   "id": "7f2c53e9",
   "metadata": {
    "ExecuteTime": {
     "end_time": "2022-02-10T13:11:40.843917Z",
     "start_time": "2022-02-10T13:11:40.812949Z"
    }
   },
   "outputs": [
    {
     "data": {
      "text/plain": [
       "sepal_length    0.0\n",
       "sepal_width     0.0\n",
       "petal_length    0.0\n",
       "petal_width     0.0\n",
       "species         0.0\n",
       "dtype: float64"
      ]
     },
     "execution_count": 3,
     "metadata": {},
     "output_type": "execute_result"
    }
   ],
   "source": [
    "(data.isnull().sum()/data.shape[0])*100"
   ]
  },
  {
   "cell_type": "markdown",
   "id": "c2207c63",
   "metadata": {},
   "source": [
    "The dataset is filled, we can use it safely with no need of cleaning."
   ]
  },
  {
   "cell_type": "code",
   "execution_count": 4,
   "id": "c660e6d0",
   "metadata": {
    "ExecuteTime": {
     "end_time": "2022-02-10T13:11:40.859858Z",
     "start_time": "2022-02-10T13:11:40.845860Z"
    }
   },
   "outputs": [
    {
     "data": {
      "text/plain": [
       "setosa        50\n",
       "versicolor    50\n",
       "virginica     50\n",
       "Name: species, dtype: int64"
      ]
     },
     "execution_count": 4,
     "metadata": {},
     "output_type": "execute_result"
    }
   ],
   "source": [
    "data.species.value_counts()"
   ]
  },
  {
   "cell_type": "markdown",
   "id": "650832b5",
   "metadata": {},
   "source": [
    "There are 50 flowers of each species in the dataset."
   ]
  },
  {
   "cell_type": "markdown",
   "id": "c31a00b0",
   "metadata": {},
   "source": [
    "# Pairplots"
   ]
  },
  {
   "cell_type": "code",
   "execution_count": 5,
   "id": "e7660f58",
   "metadata": {
    "ExecuteTime": {
     "end_time": "2022-02-10T13:11:44.252023Z",
     "start_time": "2022-02-10T13:11:40.860819Z"
    }
   },
   "outputs": [
    {
     "data": {
      "image/png": "[encoded data removed]",
      "text/plain": [
       "<Figure size 804.75x720 with 20 Axes>"
      ]
     },
     "metadata": {
      "needs_background": "light"
     },
     "output_type": "display_data"
    }
   ],
   "source": [
    "sns.pairplot(data, hue=\"species\")\n",
    "plt.show()"
   ]
  },
  {
   "cell_type": "markdown",
   "id": "18a0adc9",
   "metadata": {},
   "source": [
    "We can see a big correlation between petal length and petal width. \n",
    "We also clearly see clusters on graph showing correlation between petal length and :\n",
    "- sepal width,\n",
    "- sepal length.\n",
    "We also see clusters on graph showing correlation between petal width and :\n",
    "- sepal width,\n",
    "- sepal length."
   ]
  },
  {
   "cell_type": "markdown",
   "id": "6b6d9c3e",
   "metadata": {
    "heading_collapsed": true
   },
   "source": [
    "# Correlation box"
   ]
  },
  {
   "cell_type": "code",
   "execution_count": 6,
   "id": "8ab99364",
   "metadata": {
    "ExecuteTime": {
     "end_time": "2022-02-10T13:11:44.410625Z",
     "start_time": "2022-02-10T13:11:44.253998Z"
    },
    "hidden": true
   },
   "outputs": [
    {
     "data": {
      "image/png": "[encoded data removed]",
      "text/plain": [
       "<Figure size 432x288 with 2 Axes>"
      ]
     },
     "metadata": {
      "needs_background": "light"
     },
     "output_type": "display_data"
    }
   ],
   "source": [
    "dataplot = sns.heatmap(data.corr(), cmap=\"YlGnBu\", annot=True)\n",
    "plt.show()"
   ]
  },
  {
   "cell_type": "markdown",
   "id": "8df8df08",
   "metadata": {
    "hidden": true
   },
   "source": [
    "With this correlation box, we can see a big correlation between petals and sepals length, but not so much between sepal width and the rest."
   ]
  },
  {
   "cell_type": "markdown",
   "id": "c96e79ac",
   "metadata": {
    "heading_collapsed": true
   },
   "source": [
    "# Classification"
   ]
  },
  {
   "cell_type": "markdown",
   "id": "8fe0a3f2",
   "metadata": {
    "heading_collapsed": true,
    "hidden": true
   },
   "source": [
    "### Preparing training data"
   ]
  },
  {
   "cell_type": "code",
   "execution_count": 7,
   "id": "aa6f67a9",
   "metadata": {
    "ExecuteTime": {
     "end_time": "2022-02-10T13:11:44.425820Z",
     "start_time": "2022-02-10T13:11:44.412617Z"
    },
    "hidden": true
   },
   "outputs": [
    {
     "name": "stdout",
     "output_type": "stream",
     "text": [
      "Flowers characteristics columns:\n",
      "\n",
      "    sepal_length  sepal_width  petal_length  petal_width\n",
      "0           5.1          3.5           1.4          0.2\n",
      "1           4.9          3.0           1.4          0.2\n",
      "2           4.7          3.2           1.3          0.2\n",
      "3           4.6          3.1           1.5          0.2\n",
      "4           5.0          3.6           1.4          0.2 \n",
      "\n",
      "Species column:\n",
      "\n",
      " 0    setosa\n",
      "1    setosa\n",
      "2    setosa\n",
      "3    setosa\n",
      "4    setosa\n",
      "Name: species, dtype: object\n"
     ]
    }
   ],
   "source": [
    "# Flowers characteristics columns\n",
    "X = data.iloc[:,:-1]\n",
    "# Species column\n",
    "y = data.iloc[:,-1]\n",
    "# y = data['species']\n",
    "print('Flowers characteristics columns:\\n\\n', X.head(), '\\n')\n",
    "print('Species column:\\n\\n', y.head())"
   ]
  },
  {
   "cell_type": "markdown",
   "id": "843d4df1",
   "metadata": {
    "hidden": true
   },
   "source": [
    "The species column is the target. \n",
    "\n",
    "With machine learning, we want to guess a given flower's species with its characteristics."
   ]
  },
  {
   "cell_type": "markdown",
   "id": "ab37c508",
   "metadata": {
    "heading_collapsed": true,
    "hidden": true
   },
   "source": [
    "### Spliting the dataset"
   ]
  },
  {
   "cell_type": "code",
   "execution_count": 8,
   "id": "31715f62",
   "metadata": {
    "ExecuteTime": {
     "end_time": "2022-02-10T13:11:44.441115Z",
     "start_time": "2022-02-10T13:11:44.426818Z"
    },
    "hidden": true
   },
   "outputs": [],
   "source": [
    "'''\n",
    "70 percent of the dataset is used for the training\n",
    "30 percent is used for test\n",
    "'''\n",
    "X_train, X_test, y_train, y_test = train_test_split(X, y, test_size=0.3, random_state=42)"
   ]
  },
  {
   "cell_type": "markdown",
   "id": "b01552e6",
   "metadata": {
    "heading_collapsed": true,
    "hidden": true
   },
   "source": [
    "### Logistic Regression"
   ]
  },
  {
   "cell_type": "markdown",
   "id": "7e8d16a8",
   "metadata": {
    "heading_collapsed": true,
    "hidden": true
   },
   "source": [
    "#### Model training"
   ]
  },
  {
   "cell_type": "code",
   "execution_count": 9,
   "id": "979f6119",
   "metadata": {
    "ExecuteTime": {
     "end_time": "2022-02-10T13:11:44.519718Z",
     "start_time": "2022-02-10T13:11:44.442208Z"
    },
    "hidden": true
   },
   "outputs": [
    {
     "data": {
      "text/plain": [
       "LogisticRegression()"
      ]
     },
     "execution_count": 9,
     "metadata": {},
     "output_type": "execute_result"
    }
   ],
   "source": [
    "LR = LogisticRegression()\n",
    "LR.fit(X_train, y_train)"
   ]
  },
  {
   "cell_type": "markdown",
   "id": "213f351e",
   "metadata": {
    "heading_collapsed": true,
    "hidden": true
   },
   "source": [
    "#### Model testing"
   ]
  },
  {
   "cell_type": "code",
   "execution_count": 10,
   "id": "294e554e",
   "metadata": {
    "ExecuteTime": {
     "end_time": "2022-02-10T13:11:44.535553Z",
     "start_time": "2022-02-10T13:11:44.522727Z"
    },
    "hidden": true
   },
   "outputs": [
    {
     "name": "stdout",
     "output_type": "stream",
     "text": [
      "Predictions:\n",
      "\n",
      " ['versicolor' 'setosa' 'virginica' 'versicolor' 'versicolor' 'setosa'\n",
      " 'versicolor' 'virginica' 'versicolor' 'versicolor' 'virginica' 'setosa'\n",
      " 'setosa' 'setosa' 'setosa' 'versicolor' 'virginica' 'versicolor'\n",
      " 'versicolor' 'virginica' 'setosa' 'virginica' 'setosa' 'virginica'\n",
      " 'virginica' 'virginica' 'virginica' 'virginica' 'setosa' 'setosa'\n",
      " 'setosa' 'setosa' 'versicolor' 'setosa' 'setosa' 'virginica' 'versicolor'\n",
      " 'setosa' 'setosa' 'setosa' 'virginica' 'versicolor' 'versicolor' 'setosa'\n",
      " 'setosa'] \n",
      "\n",
      "Real values:\n",
      "\n",
      " 73     versicolor\n",
      "18         setosa\n",
      "118     virginica\n",
      "78     versicolor\n",
      "76     versicolor\n",
      "31         setosa\n",
      "64     versicolor\n",
      "141     virginica\n",
      "68     versicolor\n",
      "82     versicolor\n",
      "110     virginica\n",
      "12         setosa\n",
      "36         setosa\n",
      "9          setosa\n",
      "19         setosa\n",
      "56     versicolor\n",
      "104     virginica\n",
      "69     versicolor\n",
      "55     versicolor\n",
      "132     virginica\n",
      "29         setosa\n",
      "127     virginica\n",
      "26         setosa\n",
      "128     virginica\n",
      "131     virginica\n",
      "145     virginica\n",
      "108     virginica\n",
      "143     virginica\n",
      "45         setosa\n",
      "30         setosa\n",
      "22         setosa\n",
      "15         setosa\n",
      "65     versicolor\n",
      "11         setosa\n",
      "42         setosa\n",
      "146     virginica\n",
      "51     versicolor\n",
      "27         setosa\n",
      "4          setosa\n",
      "32         setosa\n",
      "142     virginica\n",
      "85     versicolor\n",
      "86     versicolor\n",
      "16         setosa\n",
      "10         setosa\n",
      "Name: species, dtype: object\n"
     ]
    }
   ],
   "source": [
    "predictions = LR.predict(X_test)\n",
    "print(\"Predictions:\\n\\n\", predictions, '\\n')\n",
    "print(\"Real values:\\n\\n\", y_test)"
   ]
  },
  {
   "cell_type": "markdown",
   "id": "d4fe08cf",
   "metadata": {
    "heading_collapsed": true,
    "hidden": true
   },
   "source": [
    "#### Model evaluation"
   ]
  },
  {
   "cell_type": "code",
   "execution_count": 11,
   "id": "4f5ed768",
   "metadata": {
    "ExecuteTime": {
     "end_time": "2022-02-10T13:11:44.551426Z",
     "start_time": "2022-02-10T13:11:44.536463Z"
    },
    "hidden": true
   },
   "outputs": [
    {
     "name": "stdout",
     "output_type": "stream",
     "text": [
      "              precision    recall  f1-score   support\n",
      "\n",
      "      setosa       1.00      1.00      1.00        19\n",
      "  versicolor       1.00      1.00      1.00        13\n",
      "   virginica       1.00      1.00      1.00        13\n",
      "\n",
      "    accuracy                           1.00        45\n",
      "   macro avg       1.00      1.00      1.00        45\n",
      "weighted avg       1.00      1.00      1.00        45\n",
      "\n"
     ]
    }
   ],
   "source": [
    "print(classification_report(y_test, predictions))"
   ]
  },
  {
   "cell_type": "markdown",
   "id": "bac9ce97",
   "metadata": {
    "hidden": true
   },
   "source": [
    "The classification report shows how well the logistic regression model did guessing the flowers' species."
   ]
  },
  {
   "cell_type": "markdown",
   "id": "aed91d25",
   "metadata": {
    "heading_collapsed": true,
    "hidden": true
   },
   "source": [
    "##### Accuracy score"
   ]
  },
  {
   "cell_type": "code",
   "execution_count": 12,
   "id": "684162bb",
   "metadata": {
    "ExecuteTime": {
     "end_time": "2022-02-10T13:11:44.630762Z",
     "start_time": "2022-02-10T13:11:44.553423Z"
    },
    "hidden": true
   },
   "outputs": [
    {
     "name": "stdout",
     "output_type": "stream",
     "text": [
      "Accuracy score: 100.0 %\n",
      "\n",
      "Accuracy score using cross validation: 96.19 %\n",
      "\n"
     ]
    }
   ],
   "source": [
    "print(\"Accuracy score:\", round((accuracy_score(y_test, predictions)*100), 2), '%\\n')\n",
    "print(\"Accuracy score using cross validation:\", \n",
    "      round((cross_val_score(LR, X_train, y_train, cv=3, scoring='accuracy').mean())*100, 2), '%\\n')"
   ]
  },
  {
   "cell_type": "markdown",
   "id": "8e2f99e2",
   "metadata": {
    "hidden": true
   },
   "source": [
    "The logistic regression model has an accuracy score of 100%, which means it found the right species for every test flower."
   ]
  },
  {
   "cell_type": "markdown",
   "id": "dc1ad146",
   "metadata": {
    "heading_collapsed": true,
    "hidden": true
   },
   "source": [
    "## Decision Tree"
   ]
  },
  {
   "cell_type": "markdown",
   "id": "e6f5391b",
   "metadata": {
    "heading_collapsed": true,
    "hidden": true
   },
   "source": [
    "### Model training"
   ]
  },
  {
   "cell_type": "code",
   "execution_count": 13,
   "id": "aa58c1fe",
   "metadata": {
    "ExecuteTime": {
     "end_time": "2022-02-10T13:11:44.646331Z",
     "start_time": "2022-02-10T13:11:44.632793Z"
    },
    "hidden": true
   },
   "outputs": [
    {
     "data": {
      "text/plain": [
       "DecisionTreeClassifier()"
      ]
     },
     "execution_count": 13,
     "metadata": {},
     "output_type": "execute_result"
    }
   ],
   "source": [
    "DT = DecisionTreeClassifier(criterion='gini', min_samples_split=2)\n",
    "DT.fit(X_train, y_train)"
   ]
  },
  {
   "cell_type": "code",
   "execution_count": 14,
   "id": "40495909",
   "metadata": {
    "ExecuteTime": {
     "end_time": "2022-02-10T13:11:45.358694Z",
     "start_time": "2022-02-10T13:11:44.647292Z"
    },
    "hidden": true
   },
   "outputs": [
    {
     "data": {
      "image/png": "[encoded data removed]",
      "text/plain": [
       "<Figure size 1440x1440 with 1 Axes>"
      ]
     },
     "metadata": {
      "needs_background": "light"
     },
     "output_type": "display_data"
    }
   ],
   "source": [
    "plt.figure(figsize=(20,20))\n",
    "tree.plot_tree(DT)\n",
    "plt.show()"
   ]
  },
  {
   "cell_type": "markdown",
   "id": "71d80b42",
   "metadata": {
    "heading_collapsed": true,
    "hidden": true
   },
   "source": [
    "### Model testing"
   ]
  },
  {
   "cell_type": "code",
   "execution_count": 15,
   "id": "66fa9346",
   "metadata": {
    "ExecuteTime": {
     "end_time": "2022-02-10T13:11:45.373866Z",
     "start_time": "2022-02-10T13:11:45.359697Z"
    },
    "hidden": true
   },
   "outputs": [
    {
     "name": "stdout",
     "output_type": "stream",
     "text": [
      "Predictions:\n",
      "\n",
      " ['versicolor' 'setosa' 'virginica' 'versicolor' 'versicolor' 'setosa'\n",
      " 'versicolor' 'virginica' 'versicolor' 'versicolor' 'virginica' 'setosa'\n",
      " 'setosa' 'setosa' 'setosa' 'versicolor' 'virginica' 'versicolor'\n",
      " 'versicolor' 'virginica' 'setosa' 'virginica' 'setosa' 'virginica'\n",
      " 'virginica' 'virginica' 'virginica' 'virginica' 'setosa' 'setosa'\n",
      " 'setosa' 'setosa' 'versicolor' 'setosa' 'setosa' 'virginica' 'versicolor'\n",
      " 'setosa' 'setosa' 'setosa' 'virginica' 'versicolor' 'versicolor' 'setosa'\n",
      " 'setosa'] \n",
      "\n",
      "Real values:\n",
      "\n",
      " 73     versicolor\n",
      "18         setosa\n",
      "118     virginica\n",
      "78     versicolor\n",
      "76     versicolor\n",
      "31         setosa\n",
      "64     versicolor\n",
      "141     virginica\n",
      "68     versicolor\n",
      "82     versicolor\n",
      "110     virginica\n",
      "12         setosa\n",
      "36         setosa\n",
      "9          setosa\n",
      "19         setosa\n",
      "56     versicolor\n",
      "104     virginica\n",
      "69     versicolor\n",
      "55     versicolor\n",
      "132     virginica\n",
      "29         setosa\n",
      "127     virginica\n",
      "26         setosa\n",
      "128     virginica\n",
      "131     virginica\n",
      "145     virginica\n",
      "108     virginica\n",
      "143     virginica\n",
      "45         setosa\n",
      "30         setosa\n",
      "22         setosa\n",
      "15         setosa\n",
      "65     versicolor\n",
      "11         setosa\n",
      "42         setosa\n",
      "146     virginica\n",
      "51     versicolor\n",
      "27         setosa\n",
      "4          setosa\n",
      "32         setosa\n",
      "142     virginica\n",
      "85     versicolor\n",
      "86     versicolor\n",
      "16         setosa\n",
      "10         setosa\n",
      "Name: species, dtype: object\n"
     ]
    }
   ],
   "source": [
    "predictions = DT.predict(X_test)\n",
    "print(\"Predictions:\\n\\n\", predictions, '\\n')\n",
    "print(\"Real values:\\n\\n\", y_test)"
   ]
  },
  {
   "cell_type": "markdown",
   "id": "b702b327",
   "metadata": {
    "heading_collapsed": true,
    "hidden": true
   },
   "source": [
    "### Model evaluation"
   ]
  },
  {
   "cell_type": "code",
   "execution_count": 16,
   "id": "c3ff72be",
   "metadata": {
    "ExecuteTime": {
     "end_time": "2022-02-10T13:11:45.389603Z",
     "start_time": "2022-02-10T13:11:45.374893Z"
    },
    "hidden": true
   },
   "outputs": [
    {
     "name": "stdout",
     "output_type": "stream",
     "text": [
      "Classification report:               precision    recall  f1-score   support\n",
      "\n",
      "      setosa       1.00      1.00      1.00        19\n",
      "  versicolor       1.00      1.00      1.00        13\n",
      "   virginica       1.00      1.00      1.00        13\n",
      "\n",
      "    accuracy                           1.00        45\n",
      "   macro avg       1.00      1.00      1.00        45\n",
      "weighted avg       1.00      1.00      1.00        45\n",
      "\n"
     ]
    }
   ],
   "source": [
    "print(\"Classification report:\", classification_report(y_test, predictions))"
   ]
  },
  {
   "cell_type": "markdown",
   "id": "a59124ca",
   "metadata": {
    "heading_collapsed": true,
    "hidden": true
   },
   "source": [
    "##### Accuracy score"
   ]
  },
  {
   "cell_type": "code",
   "execution_count": 17,
   "id": "84b3f4ea",
   "metadata": {
    "ExecuteTime": {
     "end_time": "2022-02-10T13:11:45.420253Z",
     "start_time": "2022-02-10T13:11:45.390519Z"
    },
    "hidden": true
   },
   "outputs": [
    {
     "name": "stdout",
     "output_type": "stream",
     "text": [
      "Accuracy score: 100.0 %\n",
      "\n",
      "Accuracy score using cross validation: 90.48 %\n",
      "\n"
     ]
    }
   ],
   "source": [
    "print(\"Accuracy score:\", round((accuracy_score(y_test, predictions)*100), 2), '%\\n')\n",
    "print(\"Accuracy score using cross validation:\", \n",
    "      round((cross_val_score(DT, X_train, y_train, cv=3, scoring='accuracy').mean())*100, 2), '%\\n')"
   ]
  },
  {
   "cell_type": "markdown",
   "id": "9f8142d5",
   "metadata": {
    "hidden": true
   },
   "source": [
    "The decision tree has an accuracy score of 100%, which means it found the right species for every test flower."
   ]
  },
  {
   "cell_type": "markdown",
   "id": "71f46294",
   "metadata": {
    "heading_collapsed": true,
    "hidden": true
   },
   "source": [
    "## Random Forest"
   ]
  },
  {
   "cell_type": "code",
   "execution_count": 18,
   "id": "b382cd4c",
   "metadata": {
    "ExecuteTime": {
     "end_time": "2022-02-10T13:11:45.436120Z",
     "start_time": "2022-02-10T13:11:45.422382Z"
    },
    "hidden": true
   },
   "outputs": [],
   "source": [
    "RF = RandomForestClassifier()"
   ]
  },
  {
   "cell_type": "markdown",
   "id": "ceea52ef",
   "metadata": {
    "heading_collapsed": true,
    "hidden": true
   },
   "source": [
    "### Model training"
   ]
  },
  {
   "cell_type": "code",
   "execution_count": 19,
   "id": "1a32604b",
   "metadata": {
    "ExecuteTime": {
     "end_time": "2022-02-10T13:11:45.547085Z",
     "start_time": "2022-02-10T13:11:45.438022Z"
    },
    "hidden": true
   },
   "outputs": [
    {
     "data": {
      "text/plain": [
       "RandomForestClassifier()"
      ]
     },
     "execution_count": 19,
     "metadata": {},
     "output_type": "execute_result"
    }
   ],
   "source": [
    "RF.fit(X_train, y_train)"
   ]
  },
  {
   "cell_type": "markdown",
   "id": "21bc300b",
   "metadata": {
    "heading_collapsed": true,
    "hidden": true
   },
   "source": [
    "### Model testing"
   ]
  },
  {
   "cell_type": "code",
   "execution_count": 20,
   "id": "6b225674",
   "metadata": {
    "ExecuteTime": {
     "end_time": "2022-02-10T13:11:45.578334Z",
     "start_time": "2022-02-10T13:11:45.548745Z"
    },
    "hidden": true
   },
   "outputs": [
    {
     "name": "stdout",
     "output_type": "stream",
     "text": [
      "Predictions:\n",
      "\n",
      " ['versicolor' 'setosa' 'virginica' 'versicolor' 'versicolor' 'setosa'\n",
      " 'versicolor' 'virginica' 'versicolor' 'versicolor' 'virginica' 'setosa'\n",
      " 'setosa' 'setosa' 'setosa' 'versicolor' 'virginica' 'versicolor'\n",
      " 'versicolor' 'virginica' 'setosa' 'virginica' 'setosa' 'virginica'\n",
      " 'virginica' 'virginica' 'virginica' 'virginica' 'setosa' 'setosa'\n",
      " 'setosa' 'setosa' 'versicolor' 'setosa' 'setosa' 'virginica' 'versicolor'\n",
      " 'setosa' 'setosa' 'setosa' 'virginica' 'versicolor' 'versicolor' 'setosa'\n",
      " 'setosa'] \n",
      "\n",
      "Real values:\n",
      "\n",
      " 73     versicolor\n",
      "18         setosa\n",
      "118     virginica\n",
      "78     versicolor\n",
      "76     versicolor\n",
      "31         setosa\n",
      "64     versicolor\n",
      "141     virginica\n",
      "68     versicolor\n",
      "82     versicolor\n",
      "110     virginica\n",
      "12         setosa\n",
      "36         setosa\n",
      "9          setosa\n",
      "19         setosa\n",
      "56     versicolor\n",
      "104     virginica\n",
      "69     versicolor\n",
      "55     versicolor\n",
      "132     virginica\n",
      "29         setosa\n",
      "127     virginica\n",
      "26         setosa\n",
      "128     virginica\n",
      "131     virginica\n",
      "145     virginica\n",
      "108     virginica\n",
      "143     virginica\n",
      "45         setosa\n",
      "30         setosa\n",
      "22         setosa\n",
      "15         setosa\n",
      "65     versicolor\n",
      "11         setosa\n",
      "42         setosa\n",
      "146     virginica\n",
      "51     versicolor\n",
      "27         setosa\n",
      "4          setosa\n",
      "32         setosa\n",
      "142     virginica\n",
      "85     versicolor\n",
      "86     versicolor\n",
      "16         setosa\n",
      "10         setosa\n",
      "Name: species, dtype: object\n"
     ]
    }
   ],
   "source": [
    "predictions = RF.predict(X_test)\n",
    "print(\"Predictions:\\n\\n\", predictions, '\\n')\n",
    "print(\"Real values:\\n\\n\", y_test)"
   ]
  },
  {
   "cell_type": "markdown",
   "id": "1c62e123",
   "metadata": {
    "heading_collapsed": true,
    "hidden": true
   },
   "source": [
    "### Model evaluation"
   ]
  },
  {
   "cell_type": "code",
   "execution_count": 21,
   "id": "d3fcded4",
   "metadata": {
    "ExecuteTime": {
     "end_time": "2022-02-10T13:11:45.594083Z",
     "start_time": "2022-02-10T13:11:45.580035Z"
    },
    "hidden": true
   },
   "outputs": [
    {
     "name": "stdout",
     "output_type": "stream",
     "text": [
      "Classification report:               precision    recall  f1-score   support\n",
      "\n",
      "      setosa       1.00      1.00      1.00        19\n",
      "  versicolor       1.00      1.00      1.00        13\n",
      "   virginica       1.00      1.00      1.00        13\n",
      "\n",
      "    accuracy                           1.00        45\n",
      "   macro avg       1.00      1.00      1.00        45\n",
      "weighted avg       1.00      1.00      1.00        45\n",
      "\n"
     ]
    }
   ],
   "source": [
    "print(\"Classification report:\", classification_report(y_test, predictions))"
   ]
  },
  {
   "cell_type": "markdown",
   "id": "31dc727a",
   "metadata": {
    "hidden": true
   },
   "source": [
    "##### Accuracy score"
   ]
  },
  {
   "cell_type": "code",
   "execution_count": 22,
   "id": "093961b6",
   "metadata": {
    "ExecuteTime": {
     "end_time": "2022-02-10T13:11:45.896705Z",
     "start_time": "2022-02-10T13:11:45.595109Z"
    },
    "hidden": true
   },
   "outputs": [
    {
     "name": "stdout",
     "output_type": "stream",
     "text": [
      "Accuracy score: 100.0 %\n",
      "\n",
      "Accuracy score using cross validation: 92.38 %\n",
      "\n"
     ]
    }
   ],
   "source": [
    "print(\"Accuracy score:\", round((accuracy_score(y_test, predictions)*100), 2), '%\\n')\n",
    "print(\"Accuracy score using cross validation:\", \n",
    "      round((cross_val_score(RF, X_train, y_train, cv=3, scoring='accuracy').mean())*100, 2), '%\\n')"
   ]
  },
  {
   "cell_type": "markdown",
   "id": "4944964e",
   "metadata": {
    "heading_collapsed": true,
    "hidden": true
   },
   "source": [
    "## XGBoost"
   ]
  },
  {
   "cell_type": "code",
   "execution_count": 23,
   "id": "f411977f",
   "metadata": {
    "ExecuteTime": {
     "end_time": "2022-02-10T13:11:48.559494Z",
     "start_time": "2022-02-10T13:11:45.898364Z"
    },
    "hidden": true
   },
   "outputs": [
    {
     "data": {
      "text/html": [
       "<div>\n",
       "<style scoped>\n",
       "    .dataframe tbody tr th:only-of-type {\n",
       "        vertical-align: middle;\n",
       "    }\n",
       "\n",
       "    .dataframe tbody tr th {\n",
       "        vertical-align: top;\n",
       "    }\n",
       "\n",
       "    .dataframe thead th {\n",
       "        text-align: right;\n",
       "    }\n",
       "</style>\n",
       "<table border=\"1\" class=\"dataframe\">\n",
       "  <thead>\n",
       "    <tr style=\"text-align: right;\">\n",
       "      <th></th>\n",
       "      <th>sepal_length</th>\n",
       "      <th>sepal_width</th>\n",
       "      <th>petal_length</th>\n",
       "      <th>petal_width</th>\n",
       "      <th>species</th>\n",
       "    </tr>\n",
       "  </thead>\n",
       "  <tbody>\n",
       "    <tr>\n",
       "      <th>0</th>\n",
       "      <td>5.1</td>\n",
       "      <td>3.5</td>\n",
       "      <td>1.4</td>\n",
       "      <td>0.2</td>\n",
       "      <td>0</td>\n",
       "    </tr>\n",
       "    <tr>\n",
       "      <th>1</th>\n",
       "      <td>4.9</td>\n",
       "      <td>3.0</td>\n",
       "      <td>1.4</td>\n",
       "      <td>0.2</td>\n",
       "      <td>0</td>\n",
       "    </tr>\n",
       "    <tr>\n",
       "      <th>2</th>\n",
       "      <td>4.7</td>\n",
       "      <td>3.2</td>\n",
       "      <td>1.3</td>\n",
       "      <td>0.2</td>\n",
       "      <td>0</td>\n",
       "    </tr>\n",
       "    <tr>\n",
       "      <th>3</th>\n",
       "      <td>4.6</td>\n",
       "      <td>3.1</td>\n",
       "      <td>1.5</td>\n",
       "      <td>0.2</td>\n",
       "      <td>0</td>\n",
       "    </tr>\n",
       "    <tr>\n",
       "      <th>4</th>\n",
       "      <td>5.0</td>\n",
       "      <td>3.6</td>\n",
       "      <td>1.4</td>\n",
       "      <td>0.2</td>\n",
       "      <td>0</td>\n",
       "    </tr>\n",
       "    <tr>\n",
       "      <th>...</th>\n",
       "      <td>...</td>\n",
       "      <td>...</td>\n",
       "      <td>...</td>\n",
       "      <td>...</td>\n",
       "      <td>...</td>\n",
       "    </tr>\n",
       "    <tr>\n",
       "      <th>145</th>\n",
       "      <td>6.7</td>\n",
       "      <td>3.0</td>\n",
       "      <td>5.2</td>\n",
       "      <td>2.3</td>\n",
       "      <td>1</td>\n",
       "    </tr>\n",
       "    <tr>\n",
       "      <th>146</th>\n",
       "      <td>6.3</td>\n",
       "      <td>2.5</td>\n",
       "      <td>5.0</td>\n",
       "      <td>1.9</td>\n",
       "      <td>1</td>\n",
       "    </tr>\n",
       "    <tr>\n",
       "      <th>147</th>\n",
       "      <td>6.5</td>\n",
       "      <td>3.0</td>\n",
       "      <td>5.2</td>\n",
       "      <td>2.0</td>\n",
       "      <td>1</td>\n",
       "    </tr>\n",
       "    <tr>\n",
       "      <th>148</th>\n",
       "      <td>6.2</td>\n",
       "      <td>3.4</td>\n",
       "      <td>5.4</td>\n",
       "      <td>2.3</td>\n",
       "      <td>1</td>\n",
       "    </tr>\n",
       "    <tr>\n",
       "      <th>149</th>\n",
       "      <td>5.9</td>\n",
       "      <td>3.0</td>\n",
       "      <td>5.1</td>\n",
       "      <td>1.8</td>\n",
       "      <td>1</td>\n",
       "    </tr>\n",
       "  </tbody>\n",
       "</table>\n",
       "<p>150 rows × 5 columns</p>\n",
       "</div>"
      ],
      "text/plain": [
       "     sepal_length  sepal_width  petal_length  petal_width species\n",
       "0             5.1          3.5           1.4          0.2       0\n",
       "1             4.9          3.0           1.4          0.2       0\n",
       "2             4.7          3.2           1.3          0.2       0\n",
       "3             4.6          3.1           1.5          0.2       0\n",
       "4             5.0          3.6           1.4          0.2       0\n",
       "..            ...          ...           ...          ...     ...\n",
       "145           6.7          3.0           5.2          2.3       1\n",
       "146           6.3          2.5           5.0          1.9       1\n",
       "147           6.5          3.0           5.2          2.0       1\n",
       "148           6.2          3.4           5.4          2.3       1\n",
       "149           5.9          3.0           5.1          1.8       1\n",
       "\n",
       "[150 rows x 5 columns]"
      ]
     },
     "execution_count": 23,
     "metadata": {},
     "output_type": "execute_result"
    }
   ],
   "source": [
    "flower_species_dict = { 'setosa' : 0,\n",
    "                       'virginica' : 1,\n",
    "                       'versicolor' : 2\n",
    "                      }\n",
    "data_float = data\n",
    "for i in range(len(data_float)):\n",
    "    species = data_float['species'][i]\n",
    "    data_float['species'][i] = flower_species_dict[species]\n",
    "data_float"
   ]
  },
  {
   "cell_type": "markdown",
   "id": "d3664c00",
   "metadata": {
    "hidden": true
   },
   "source": [
    "### DMatrix data format"
   ]
  },
  {
   "cell_type": "code",
   "execution_count": 24,
   "id": "04b013aa",
   "metadata": {
    "ExecuteTime": {
     "end_time": "2022-02-10T13:11:49.376877Z",
     "start_time": "2022-02-10T13:11:48.560488Z"
    },
    "hidden": true
   },
   "outputs": [],
   "source": [
    "X_train, X_test, y_train, y_test = train_test_split(X, y, test_size=0.3, random_state=42)\n",
    "dtrain = xgb.DMatrix(X_train, label=y_train)\n",
    "dtest = xgb.DMatrix(X_test, label=y_test)"
   ]
  },
  {
   "cell_type": "markdown",
   "id": "a08399de",
   "metadata": {
    "hidden": true
   },
   "source": [
    "### Model training"
   ]
  },
  {
   "cell_type": "code",
   "execution_count": 25,
   "id": "a20c1fe2",
   "metadata": {
    "ExecuteTime": {
     "end_time": "2022-02-10T13:11:49.469630Z",
     "start_time": "2022-02-10T13:11:49.378872Z"
    },
    "hidden": true
   },
   "outputs": [
    {
     "name": "stdout",
     "output_type": "stream",
     "text": [
      "[14:11:49] WARNING: C:/Users/Administrator/workspace/xgboost-win64_release_1.5.1/src/learner.cc:576: \n",
      "Parameters: { \"silent\" } might not be used.\n",
      "\n",
      "  This could be a false alarm, with some parameters getting used by language bindings but\n",
      "  then being mistakenly passed down to XGBoost core, or some parameter actually being used\n",
      "  but getting flagged wrongly here. Please open an issue if you find any such cases.\n",
      "\n",
      "\n",
      "[14:11:49] WARNING: C:/Users/Administrator/workspace/xgboost-win64_release_1.5.1/src/learner.cc:1115: Starting in XGBoost 1.3.0, the default evaluation metric used with the objective 'multi:softprob' was changed from 'merror' to 'mlogloss'. Explicitly set eval_metric if you'd like to restore the old behavior.\n"
     ]
    }
   ],
   "source": [
    "param = {\n",
    "    'max_depth': 3,  # the maximum depth of each tree\n",
    "    'eta': 0.3,  # the training step for each iteration\n",
    "    'silent': 1,  # logging mode - quiet\n",
    "    'objective': 'multi:softprob',  # error evaluation for multiclass training\n",
    "    'num_class': 3}  # the number of classes that exist in this datset\n",
    "num_round = 20  # the number of training iterations\n",
    "bst = xgb.train(param, dtrain, num_round)"
   ]
  },
  {
   "cell_type": "code",
   "execution_count": 26,
   "id": "919e25cd",
   "metadata": {
    "ExecuteTime": {
     "end_time": "2022-02-10T13:11:49.516504Z",
     "start_time": "2022-02-10T13:11:49.471624Z"
    },
    "hidden": true
   },
   "outputs": [
    {
     "name": "stdout",
     "output_type": "stream",
     "text": [
      "booster[0]:\n",
      "0:[petal_length<2.45000005] yes=1,no=2,missing=1\n",
      "\t1:leaf=0.419548899\n",
      "\t2:leaf=-0.218360677\n",
      "booster[1]:\n",
      "0:[petal_length<4.75] yes=1,no=2,missing=1\n",
      "\t1:[petal_width<1.45000005] yes=3,no=4,missing=3\n",
      "\t\t3:leaf=-0.216734722\n",
      "\t\t4:leaf=-0.0620689802\n",
      "\t2:[petal_width<1.75] yes=5,no=6,missing=5\n",
      "\t\t5:[petal_length<5.05000019] yes=7,no=8,missing=7\n",
      "\t\t\t7:leaf=-0.0360000096\n",
      "\t\t\t8:leaf=0.179999992\n",
      "\t\t6:[petal_length<4.85000038] yes=9,no=10,missing=9\n",
      "\t\t\t9:leaf=0.128571421\n",
      "\t\t\t10:leaf=0.418604642\n",
      "booster[2]:\n",
      "0:[petal_length<2.45000005] yes=1,no=2,missing=1\n",
      "\t1:leaf=-0.209774464\n",
      "\t2:[petal_width<1.75] yes=3,no=4,missing=3\n",
      "\t\t3:[petal_length<4.94999981] yes=5,no=6,missing=5\n",
      "\t\t\t5:leaf=0.404698014\n",
      "\t\t\t6:leaf=-9.7534878e-09\n",
      "\t\t4:[petal_length<4.85000038] yes=7,no=8,missing=7\n",
      "\t\t\t7:leaf=-7.66345476e-09\n",
      "\t\t\t8:leaf=-0.209302351\n",
      "booster[3]:\n",
      "0:[petal_length<2.45000005] yes=1,no=2,missing=1\n",
      "\t1:leaf=0.290567815\n",
      "\t2:leaf=-0.195494026\n",
      "booster[4]:\n",
      "0:[petal_length<4.75] yes=1,no=2,missing=1\n",
      "\t1:[petal_width<1.45000005] yes=3,no=4,missing=3\n",
      "\t\t3:leaf=-0.193530455\n",
      "\t\t4:leaf=-0.0440647528\n",
      "\t2:[petal_width<1.75] yes=5,no=6,missing=5\n",
      "\t\t5:[petal_length<5.05000019] yes=7,no=8,missing=7\n",
      "\t\t\t7:leaf=-0.0314571969\n",
      "\t\t\t8:leaf=0.144359231\n",
      "\t\t6:leaf=0.280805796\n",
      "booster[5]:\n",
      "0:[petal_length<2.45000005] yes=1,no=2,missing=1\n",
      "\t1:leaf=-0.186573654\n",
      "\t2:[petal_width<1.75] yes=3,no=4,missing=3\n",
      "\t\t3:[petal_length<4.94999981] yes=5,no=6,missing=5\n",
      "\t\t\t5:leaf=0.280597538\n",
      "\t\t\t6:leaf=-0.00448205369\n",
      "\t\t4:[petal_length<4.85000038] yes=7,no=8,missing=7\n",
      "\t\t\t7:leaf=-0.00256321509\n",
      "\t\t\t8:leaf=-0.186183542\n",
      "booster[6]:\n",
      "0:[petal_length<2.45000005] yes=1,no=2,missing=1\n",
      "\t1:leaf=0.232837364\n",
      "\t2:leaf=-0.18013224\n",
      "booster[7]:\n",
      "0:[petal_length<4.75] yes=1,no=2,missing=1\n",
      "\t1:[petal_width<1.45000005] yes=3,no=4,missing=3\n",
      "\t\t3:leaf=-0.177710146\n",
      "\t\t4:leaf=-0.027839426\n",
      "\t2:[petal_width<1.75] yes=5,no=6,missing=5\n",
      "\t\t5:[petal_length<5.05000019] yes=7,no=8,missing=7\n",
      "\t\t\t7:leaf=-0.0271287076\n",
      "\t\t\t8:leaf=0.11863371\n",
      "\t\t6:[petal_length<4.85000038] yes=9,no=10,missing=9\n",
      "\t\t\t9:leaf=0.0687795728\n",
      "\t\t\t10:leaf=0.233243689\n",
      "booster[8]:\n",
      "0:[petal_length<2.45000005] yes=1,no=2,missing=1\n",
      "\t1:leaf=-0.170223206\n",
      "\t2:[petal_width<1.6500001] yes=3,no=4,missing=3\n",
      "\t\t3:[petal_length<4.94999981] yes=5,no=6,missing=5\n",
      "\t\t\t5:leaf=0.238937244\n",
      "\t\t\t6:leaf=-0.0643721595\n",
      "\t\t4:[petal_length<5.05000019] yes=7,no=8,missing=7\n",
      "\t\t\t7:leaf=-0.0350116789\n",
      "\t\t\t8:leaf=-0.168374836\n",
      "booster[9]:\n",
      "0:[petal_length<2.45000005] yes=1,no=2,missing=1\n",
      "\t1:leaf=0.200338423\n",
      "\t2:leaf=-0.169164777\n",
      "booster[10]:\n",
      "0:[petal_length<4.75] yes=1,no=2,missing=1\n",
      "\t1:[petal_width<1.45000005] yes=3,no=4,missing=3\n",
      "\t\t3:leaf=-0.165913522\n",
      "\t\t4:leaf=-0.0160577781\n",
      "\t2:[petal_width<1.75] yes=5,no=6,missing=5\n",
      "\t\t5:[petal_width<1.54999995] yes=7,no=8,missing=7\n",
      "\t\t\t7:leaf=0.107662246\n",
      "\t\t\t8:leaf=-0.0484962352\n",
      "\t\t6:[petal_length<4.85000038] yes=9,no=10,missing=9\n",
      "\t\t\t9:leaf=0.0544015318\n",
      "\t\t\t10:leaf=0.200941324\n",
      "booster[11]:\n",
      "0:[petal_length<2.45000005] yes=1,no=2,missing=1\n",
      "\t1:leaf=-0.157707483\n",
      "\t2:[petal_width<1.6500001] yes=3,no=4,missing=3\n",
      "\t\t3:[petal_length<4.94999981] yes=5,no=6,missing=5\n",
      "\t\t\t5:leaf=0.205627739\n",
      "\t\t\t6:leaf=-0.0582401305\n",
      "\t\t4:[petal_length<5.05000019] yes=7,no=8,missing=7\n",
      "\t\t\t7:leaf=-0.0302773658\n",
      "\t\t\t8:leaf=-0.15562959\n",
      "booster[12]:\n",
      "0:[petal_length<2.45000005] yes=1,no=2,missing=1\n",
      "\t1:leaf=0.17949383\n",
      "\t2:leaf=-0.160863653\n",
      "booster[13]:\n",
      "0:[petal_length<4.75] yes=1,no=2,missing=1\n",
      "\t1:[petal_width<1.45000005] yes=3,no=4,missing=3\n",
      "\t\t3:leaf=-0.15667738\n",
      "\t\t4:leaf=-0.00551521638\n",
      "\t2:[petal_length<5.14999962] yes=5,no=6,missing=5\n",
      "\t\t5:[sepal_width<2.9000001] yes=7,no=8,missing=7\n",
      "\t\t\t7:leaf=0.113482721\n",
      "\t\t\t8:leaf=-0.0442155823\n",
      "\t\t6:leaf=0.185057119\n",
      "booster[14]:\n",
      "0:[petal_length<2.45000005] yes=1,no=2,missing=1\n",
      "\t1:leaf=-0.147384286\n",
      "\t2:[petal_width<1.6500001] yes=3,no=4,missing=3\n",
      "\t\t3:[petal_length<4.94999981] yes=5,no=6,missing=5\n",
      "\t\t\t5:leaf=0.185012862\n",
      "\t\t\t6:leaf=-0.0541476943\n",
      "\t\t4:[petal_length<5.05000019] yes=7,no=8,missing=7\n",
      "\t\t\t7:leaf=-0.0261458773\n",
      "\t\t\t8:leaf=-0.14500691\n",
      "booster[15]:\n",
      "0:[petal_length<2.45000005] yes=1,no=2,missing=1\n",
      "\t1:leaf=0.164737821\n",
      "\t2:leaf=-0.154064059\n",
      "booster[16]:\n",
      "0:[petal_width<1.6500001] yes=1,no=2,missing=1\n",
      "\t1:[petal_length<4.94999981] yes=3,no=4,missing=3\n",
      "\t\t3:leaf=-0.153962344\n",
      "\t\t4:leaf=0.0978347287\n",
      "\t2:leaf=0.14999637\n",
      "booster[17]:\n",
      "0:[petal_length<2.45000005] yes=1,no=2,missing=1\n",
      "\t1:leaf=-0.138252914\n",
      "\t2:[petal_width<1.6500001] yes=3,no=4,missing=3\n",
      "\t\t3:[petal_length<4.94999981] yes=5,no=6,missing=5\n",
      "\t\t\t5:leaf=0.170538813\n",
      "\t\t\t6:leaf=-0.0427336246\n",
      "\t\t4:[petal_length<5.05000019] yes=7,no=8,missing=7\n",
      "\t\t\t7:leaf=-0.0251244958\n",
      "\t\t\t8:leaf=-0.135840371\n",
      "booster[18]:\n",
      "0:[petal_length<2.45000005] yes=1,no=2,missing=1\n",
      "\t1:leaf=0.153263479\n",
      "\t2:leaf=-0.147890553\n",
      "booster[19]:\n",
      "0:[petal_width<1.6500001] yes=1,no=2,missing=1\n",
      "\t1:[petal_length<4.94999981] yes=3,no=4,missing=3\n",
      "\t\t3:leaf=-0.146663621\n",
      "\t\t4:leaf=0.081471175\n",
      "\t2:[sepal_width<3.1500001] yes=5,no=6,missing=5\n",
      "\t\t5:[sepal_length<6.5999999] yes=7,no=8,missing=7\n",
      "\t\t\t7:leaf=0.179605365\n",
      "\t\t\t8:leaf=0.067295514\n",
      "\t\t6:[sepal_length<6.35000038] yes=9,no=10,missing=9\n",
      "\t\t\t9:leaf=-0.0253738072\n",
      "\t\t\t10:leaf=0.109532416\n",
      "booster[20]:\n",
      "0:[petal_length<5.14999962] yes=1,no=2,missing=1\n",
      "\t1:[petal_length<2.45000005] yes=3,no=4,missing=3\n",
      "\t\t3:leaf=-0.129706264\n",
      "\t\t4:[petal_width<1.6500001] yes=5,no=6,missing=5\n",
      "\t\t\t5:leaf=0.144493401\n",
      "\t\t\t6:leaf=-0.0285616722\n",
      "\t2:leaf=-0.134773567\n",
      "booster[21]:\n",
      "0:[petal_length<2.45000005] yes=1,no=2,missing=1\n",
      "\t1:leaf=0.143693566\n",
      "\t2:leaf=-0.142452925\n",
      "booster[22]:\n",
      "0:[petal_length<4.44999981] yes=1,no=2,missing=1\n",
      "\t1:leaf=-0.13450177\n",
      "\t2:[petal_length<5.14999962] yes=3,no=4,missing=3\n",
      "\t\t3:[sepal_width<2.8499999] yes=5,no=6,missing=5\n",
      "\t\t\t5:leaf=0.0964640751\n",
      "\t\t\t6:leaf=-0.0948686674\n",
      "\t\t4:leaf=0.149879128\n",
      "booster[23]:\n",
      "0:[petal_length<5.14999962] yes=1,no=2,missing=1\n",
      "\t1:[petal_length<2.45000005] yes=3,no=4,missing=3\n",
      "\t\t3:leaf=-0.121373639\n",
      "\t\t4:[petal_width<1.6500001] yes=5,no=6,missing=5\n",
      "\t\t\t5:leaf=0.130881518\n",
      "\t\t\t6:leaf=-0.0153643833\n",
      "\t2:leaf=-0.127769038\n",
      "booster[24]:\n",
      "0:[petal_length<2.45000005] yes=1,no=2,missing=1\n",
      "\t1:leaf=0.135236025\n",
      "\t2:leaf=-0.137129724\n",
      "booster[25]:\n",
      "0:[petal_length<4.44999981] yes=1,no=2,missing=1\n",
      "\t1:leaf=-0.127750084\n",
      "\t2:[petal_length<5.14999962] yes=3,no=4,missing=3\n",
      "\t\t3:[sepal_width<2.8499999] yes=5,no=6,missing=5\n",
      "\t\t\t5:leaf=0.0894174278\n",
      "\t\t\t6:leaf=-0.0874082446\n",
      "\t\t4:leaf=0.139848888\n",
      "booster[26]:\n",
      "0:[petal_length<5.14999962] yes=1,no=2,missing=1\n",
      "\t1:[petal_length<2.45000005] yes=3,no=4,missing=3\n",
      "\t\t3:leaf=-0.113089159\n",
      "\t\t4:[petal_width<1.6500001] yes=5,no=6,missing=5\n",
      "\t\t\t5:leaf=0.119824588\n",
      "\t\t\t6:leaf=-0.0148266749\n",
      "\t2:leaf=-0.118674792\n",
      "booster[27]:\n",
      "0:[petal_length<2.45000005] yes=1,no=2,missing=1\n",
      "\t1:leaf=0.127316028\n",
      "\t2:leaf=-0.131860524\n",
      "booster[28]:\n",
      "0:[petal_length<4.44999981] yes=1,no=2,missing=1\n",
      "\t1:leaf=-0.120892502\n",
      "\t2:[petal_length<5.14999962] yes=3,no=4,missing=3\n",
      "\t\t3:[sepal_width<2.8499999] yes=5,no=6,missing=5\n",
      "\t\t\t5:leaf=0.0834365934\n",
      "\t\t\t6:leaf=-0.0806585699\n",
      "\t\t4:leaf=0.130726382\n",
      "booster[29]:\n",
      "0:[petal_length<5.14999962] yes=1,no=2,missing=1\n",
      "\t1:[sepal_length<5.35000038] yes=3,no=4,missing=3\n",
      "\t\t3:[sepal_length<4.94999981] yes=5,no=6,missing=5\n",
      "\t\t\t5:leaf=-0.105606161\n",
      "\t\t\t6:leaf=-0.031684231\n",
      "\t\t4:[petal_width<1.75] yes=7,no=8,missing=7\n",
      "\t\t\t7:leaf=0.111436345\n",
      "\t\t\t8:leaf=-0.0254942272\n",
      "\t2:leaf=-0.109836347\n",
      "booster[30]:\n",
      "0:[petal_length<2.45000005] yes=1,no=2,missing=1\n",
      "\t1:leaf=0.120824099\n",
      "\t2:leaf=-0.126697868\n",
      "booster[31]:\n",
      "0:[petal_length<4.44999981] yes=1,no=2,missing=1\n",
      "\t1:leaf=-0.1143177\n",
      "\t2:[petal_length<5.14999962] yes=3,no=4,missing=3\n",
      "\t\t3:[sepal_width<2.8499999] yes=5,no=6,missing=5\n",
      "\t\t\t5:leaf=0.0767655522\n",
      "\t\t\t6:leaf=-0.0729274228\n",
      "\t\t4:leaf=0.122151248\n",
      "booster[32]:\n",
      "0:[petal_length<5.14999962] yes=1,no=2,missing=1\n",
      "\t1:[petal_length<2.45000005] yes=3,no=4,missing=3\n",
      "\t\t3:leaf=-0.09912128\n",
      "\t\t4:[petal_width<1.6500001] yes=5,no=6,missing=5\n",
      "\t\t\t5:leaf=0.100458778\n",
      "\t\t\t6:leaf=-0.0140446974\n",
      "\t2:leaf=-0.101270124\n",
      "booster[33]:\n",
      "0:[petal_length<2.45000005] yes=1,no=2,missing=1\n",
      "\t1:leaf=0.113351293\n",
      "\t2:leaf=-0.121317513\n",
      "booster[34]:\n",
      "0:[petal_length<4.44999981] yes=1,no=2,missing=1\n",
      "\t1:leaf=-0.107271746\n",
      "\t2:[petal_length<5.14999962] yes=3,no=4,missing=3\n",
      "\t\t3:[sepal_width<2.5999999] yes=5,no=6,missing=5\n",
      "\t\t\t5:leaf=0.11617092\n",
      "\t\t\t6:leaf=-0.0335387364\n",
      "\t\t4:leaf=0.11394535\n",
      "booster[35]:\n",
      "0:[sepal_length<5.14999962] yes=1,no=2,missing=1\n",
      "\t1:leaf=-0.0833040401\n",
      "\t2:[petal_width<1.75] yes=3,no=4,missing=3\n",
      "\t\t3:[petal_width<1.54999995] yes=5,no=6,missing=5\n",
      "\t\t\t5:leaf=0.0341617428\n",
      "\t\t\t6:leaf=0.150021136\n",
      "\t\t4:[sepal_width<3.04999995] yes=7,no=8,missing=7\n",
      "\t\t\t7:leaf=-0.115557991\n",
      "\t\t\t8:leaf=0.0487551652\n",
      "booster[36]:\n",
      "0:[petal_length<2.45000005] yes=1,no=2,missing=1\n",
      "\t1:leaf=0.106739305\n",
      "\t2:leaf=-0.11665035\n",
      "booster[37]:\n",
      "0:[petal_length<4.44999981] yes=1,no=2,missing=1\n",
      "\t1:leaf=-0.101601958\n",
      "\t2:[petal_length<5.14999962] yes=3,no=4,missing=3\n",
      "\t\t3:[sepal_width<2.8499999] yes=5,no=6,missing=5\n",
      "\t\t\t5:leaf=0.067594789\n",
      "\t\t\t6:leaf=-0.0656547993\n",
      "\t\t4:leaf=0.108460523\n",
      "booster[38]:\n",
      "0:[petal_length<5.14999962] yes=1,no=2,missing=1\n",
      "\t1:[sepal_length<5.14999962] yes=3,no=4,missing=3\n",
      "\t\t3:leaf=-0.0748419613\n",
      "\t\t4:[petal_width<1.75] yes=5,no=6,missing=5\n",
      "\t\t\t5:leaf=0.083877705\n",
      "\t\t\t6:leaf=-0.0202458035\n",
      "\t2:leaf=-0.0893586203\n",
      "booster[39]:\n",
      "0:[petal_length<2.45000005] yes=1,no=2,missing=1\n",
      "\t1:leaf=0.100677915\n",
      "\t2:leaf=-0.111429237\n",
      "booster[40]:\n",
      "0:[petal_length<4.44999981] yes=1,no=2,missing=1\n",
      "\t1:leaf=-0.0953379646\n",
      "\t2:[sepal_width<3.1500001] yes=3,no=4,missing=3\n",
      "\t\t3:[petal_width<1.75] yes=5,no=6,missing=5\n",
      "\t\t\t5:leaf=0.00316664879\n",
      "\t\t\t6:leaf=0.125167832\n",
      "\t\t4:leaf=-0.0353469439\n",
      "booster[41]:\n",
      "0:[petal_length<5.14999962] yes=1,no=2,missing=1\n",
      "\t1:[sepal_length<5.35000038] yes=3,no=4,missing=3\n",
      "\t\t3:leaf=-0.0653829798\n",
      "\t\t4:[petal_width<1.75] yes=5,no=6,missing=5\n",
      "\t\t\t5:leaf=0.0785483271\n",
      "\t\t\t6:leaf=-0.019907482\n",
      "\t2:leaf=-0.0818421543\n",
      "booster[42]:\n",
      "0:[petal_length<2.45000005] yes=1,no=2,missing=1\n",
      "\t1:leaf=0.0947480872\n",
      "\t2:leaf=-0.106233828\n",
      "booster[43]:\n",
      "0:[petal_length<4.44999981] yes=1,no=2,missing=1\n",
      "\t1:leaf=-0.0894375145\n",
      "\t2:[sepal_width<2.6500001] yes=3,no=4,missing=3\n",
      "\t\t3:leaf=0.105208419\n",
      "\t\t4:[petal_width<1.75] yes=5,no=6,missing=5\n",
      "\t\t\t5:leaf=-0.0695537701\n",
      "\t\t\t6:leaf=0.0670263097\n",
      "booster[44]:\n",
      "0:[sepal_length<5.14999962] yes=1,no=2,missing=1\n",
      "\t1:leaf=-0.0635643601\n",
      "\t2:[petal_length<4.94999981] yes=3,no=4,missing=3\n",
      "\t\t3:[sepal_length<5.94999981] yes=5,no=6,missing=5\n",
      "\t\t\t5:leaf=0.0980670527\n",
      "\t\t\t6:leaf=0.0104711577\n",
      "\t\t4:[petal_width<1.54999995] yes=7,no=8,missing=7\n",
      "\t\t\t7:leaf=-0.120255299\n",
      "\t\t\t8:leaf=0.0319916569\n",
      "booster[45]:\n",
      "0:[petal_length<2.45000005] yes=1,no=2,missing=1\n",
      "\t1:leaf=0.0895436704\n",
      "\t2:leaf=-0.101221614\n",
      "booster[46]:\n",
      "0:[petal_length<4.44999981] yes=1,no=2,missing=1\n",
      "\t1:leaf=-0.0837506726\n",
      "\t2:[sepal_width<3.1500001] yes=3,no=4,missing=3\n",
      "\t\t3:[petal_width<1.75] yes=5,no=6,missing=5\n",
      "\t\t\t5:leaf=0.00276279822\n",
      "\t\t\t6:leaf=0.114940457\n",
      "\t\t4:leaf=-0.0421250612\n",
      "booster[47]:\n",
      "0:[sepal_length<5.35000038] yes=1,no=2,missing=1\n",
      "\t1:leaf=-0.0552748851\n",
      "\t2:[petal_length<4.94999981] yes=3,no=4,missing=3\n",
      "\t\t3:[sepal_length<5.94999981] yes=5,no=6,missing=5\n",
      "\t\t\t5:leaf=0.0984341949\n",
      "\t\t\t6:leaf=0.00965901092\n",
      "\t\t4:[petal_width<1.54999995] yes=7,no=8,missing=7\n",
      "\t\t\t7:leaf=-0.112072676\n",
      "\t\t\t8:leaf=0.0285623614\n",
      "booster[48]:\n",
      "0:[petal_length<2.45000005] yes=1,no=2,missing=1\n",
      "\t1:leaf=0.0845306367\n",
      "\t2:leaf=-0.0964537486\n",
      "booster[49]:\n",
      "0:[petal_length<5.14999962] yes=1,no=2,missing=1\n",
      "\t1:[sepal_width<2.8499999] yes=3,no=4,missing=3\n",
      "\t\t3:[petal_width<1.6500001] yes=5,no=6,missing=5\n",
      "\t\t\t5:leaf=-0.0284988601\n",
      "\t\t\t6:leaf=0.100245304\n",
      "\t\t4:[petal_width<1.75] yes=7,no=8,missing=7\n",
      "\t\t\t7:leaf=-0.099240087\n",
      "\t\t\t8:leaf=-0.0194526184\n",
      "\t2:leaf=0.0908616036\n",
      "booster[50]:\n",
      "0:[sepal_length<5.44999981] yes=1,no=2,missing=1\n",
      "\t1:leaf=-0.0494958684\n",
      "\t2:[petal_length<4.94999981] yes=3,no=4,missing=3\n",
      "\t\t3:[sepal_length<5.94999981] yes=5,no=6,missing=5\n",
      "\t\t\t5:leaf=0.0993001536\n",
      "\t\t\t6:leaf=0.0112138493\n",
      "\t\t4:[petal_width<1.75] yes=7,no=8,missing=7\n",
      "\t\t\t7:leaf=0.0128908223\n",
      "\t\t\t8:leaf=-0.078154318\n",
      "booster[51]:\n",
      "0:[petal_length<2.45000005] yes=1,no=2,missing=1\n",
      "\t1:leaf=0.0792512521\n",
      "\t2:leaf=-0.0915923864\n",
      "booster[52]:\n",
      "0:[petal_length<5.14999962] yes=1,no=2,missing=1\n",
      "\t1:[sepal_width<2.8499999] yes=3,no=4,missing=3\n",
      "\t\t3:[petal_width<1.6500001] yes=5,no=6,missing=5\n",
      "\t\t\t5:leaf=-0.0247027744\n",
      "\t\t\t6:leaf=0.0941498056\n",
      "\t\t4:[petal_width<1.75] yes=7,no=8,missing=7\n",
      "\t\t\t7:leaf=-0.0938644111\n",
      "\t\t\t8:leaf=-0.0160657223\n",
      "\t2:leaf=0.0848724097\n",
      "booster[53]:\n",
      "0:[petal_width<1.75] yes=1,no=2,missing=1\n",
      "\t1:[sepal_length<5.44999981] yes=3,no=4,missing=3\n",
      "\t\t3:leaf=-0.0434247255\n",
      "\t\t4:[petal_width<1.54999995] yes=7,no=8,missing=7\n",
      "\t\t\t7:leaf=-0.00358815328\n",
      "\t\t\t8:leaf=0.114265218\n",
      "\t2:[petal_length<4.85000038] yes=5,no=6,missing=5\n",
      "\t\t5:leaf=0.0244232323\n",
      "\t\t6:leaf=-0.0799885914\n",
      "booster[54]:\n",
      "0:[petal_length<3.4000001] yes=1,no=2,missing=1\n",
      "\t1:leaf=0.0625753105\n",
      "\t2:leaf=-0.08430022\n",
      "booster[55]:\n",
      "0:[petal_length<4.94999981] yes=1,no=2,missing=1\n",
      "\t1:[petal_width<1.60000002] yes=3,no=4,missing=3\n",
      "\t\t3:leaf=-0.0940964445\n",
      "\t\t4:leaf=0.0324004963\n",
      "\t2:[petal_width<1.54999995] yes=5,no=6,missing=5\n",
      "\t\t5:leaf=0.114165269\n",
      "\t\t6:[petal_width<1.75] yes=7,no=8,missing=7\n",
      "\t\t\t7:leaf=-0.09440016\n",
      "\t\t\t8:leaf=0.0810612291\n",
      "booster[56]:\n",
      "0:[petal_length<4.94999981] yes=1,no=2,missing=1\n",
      "\t1:[sepal_length<5.44999981] yes=3,no=4,missing=3\n",
      "\t\t3:leaf=-0.0380387604\n",
      "\t\t4:[sepal_length<5.94999981] yes=7,no=8,missing=7\n",
      "\t\t\t7:leaf=0.0924864933\n",
      "\t\t\t8:leaf=0.00588885928\n",
      "\t2:[sepal_width<2.75] yes=5,no=6,missing=5\n",
      "\t\t5:leaf=0.00897665136\n",
      "\t\t6:leaf=-0.0518075787\n",
      "booster[57]:\n",
      "0:[petal_width<1.04999995] yes=1,no=2,missing=1\n",
      "\t1:leaf=0.0529581793\n",
      "\t2:leaf=-0.0783412382\n",
      "booster[58]:\n",
      "0:[sepal_width<3.1500001] yes=1,no=2,missing=1\n",
      "\t1:[petal_width<1.75] yes=3,no=4,missing=3\n",
      "\t\t3:[sepal_width<2.6500001] yes=5,no=6,missing=5\n",
      "\t\t\t5:leaf=0.0474207364\n",
      "\t\t\t6:leaf=-0.0610552989\n",
      "\t\t4:leaf=0.101456538\n",
      "\t2:leaf=-0.0600008704\n",
      "booster[59]:\n",
      "0:[petal_length<4.94999981] yes=1,no=2,missing=1\n",
      "\t1:[sepal_length<5.44999981] yes=3,no=4,missing=3\n",
      "\t\t3:leaf=-0.0346400887\n",
      "\t\t4:[sepal_length<5.94999981] yes=7,no=8,missing=7\n",
      "\t\t\t7:leaf=0.0868361145\n",
      "\t\t\t8:leaf=0.0020838459\n",
      "\t2:[sepal_width<2.75] yes=5,no=6,missing=5\n",
      "\t\t5:leaf=0.00974111073\n",
      "\t\t6:leaf=-0.0466363616\n",
      "\n"
     ]
    }
   ],
   "source": [
    "bst.dump_model('dump.raw.txt')\n",
    "f = open('dump.raw.txt', 'r')\n",
    "print(f.read())"
   ]
  },
  {
   "cell_type": "markdown",
   "id": "8bc054a7",
   "metadata": {
    "hidden": true
   },
   "source": [
    "### Model testing"
   ]
  },
  {
   "cell_type": "code",
   "execution_count": 27,
   "id": "c73f1889",
   "metadata": {
    "ExecuteTime": {
     "end_time": "2022-02-10T13:11:49.532483Z",
     "start_time": "2022-02-10T13:11:49.518500Z"
    },
    "hidden": true
   },
   "outputs": [
    {
     "name": "stdout",
     "output_type": "stream",
     "text": [
      "Predictions:\n",
      "\n",
      " [2 0 1 2 2 0 2 1 2 2 1 0 0 0 0 2 1 2 2 1 0 1 0 1 1 1 1 1 0 0 0 0 2 0 0 1 2\n",
      " 0 0 0 1 2 2 0 0] \n",
      "\n",
      "Real values:\n",
      "\n",
      " 73     2\n",
      "18     0\n",
      "118    1\n",
      "78     2\n",
      "76     2\n",
      "31     0\n",
      "64     2\n",
      "141    1\n",
      "68     2\n",
      "82     2\n",
      "110    1\n",
      "12     0\n",
      "36     0\n",
      "9      0\n",
      "19     0\n",
      "56     2\n",
      "104    1\n",
      "69     2\n",
      "55     2\n",
      "132    1\n",
      "29     0\n",
      "127    1\n",
      "26     0\n",
      "128    1\n",
      "131    1\n",
      "145    1\n",
      "108    1\n",
      "143    1\n",
      "45     0\n",
      "30     0\n",
      "22     0\n",
      "15     0\n",
      "65     2\n",
      "11     0\n",
      "42     0\n",
      "146    1\n",
      "51     2\n",
      "27     0\n",
      "4      0\n",
      "32     0\n",
      "142    1\n",
      "85     2\n",
      "86     2\n",
      "16     0\n",
      "10     0\n",
      "Name: species, dtype: object\n"
     ]
    }
   ],
   "source": [
    "probs_predictions = bst.predict(dtest)\n",
    "predictions = np.asarray([np.argmax(line) for line in probs_predictions])\n",
    "print(\"Predictions:\\n\\n\", predictions, '\\n')\n",
    "print(\"Real values:\\n\\n\", y_test)"
   ]
  },
  {
   "cell_type": "markdown",
   "id": "86363845",
   "metadata": {
    "hidden": true
   },
   "source": [
    "### Model evaluation "
   ]
  },
  {
   "cell_type": "markdown",
   "id": "1b164f8c",
   "metadata": {
    "hidden": true
   },
   "source": [
    "### Saving model"
   ]
  },
  {
   "cell_type": "code",
   "execution_count": 28,
   "id": "18d8c2d8",
   "metadata": {
    "ExecuteTime": {
     "end_time": "2022-02-10T13:11:49.564376Z",
     "start_time": "2022-02-10T13:11:49.538445Z"
    },
    "hidden": true
   },
   "outputs": [
    {
     "data": {
      "text/plain": [
       "['bst_model.pkl']"
      ]
     },
     "execution_count": 28,
     "metadata": {},
     "output_type": "execute_result"
    }
   ],
   "source": [
    "joblib.dump(bst, 'bst_model.pkl', compress=True)"
   ]
  },
  {
   "cell_type": "markdown",
   "id": "e3886b29",
   "metadata": {},
   "source": [
    "# Clustering"
   ]
  },
  {
   "cell_type": "markdown",
   "id": "e4926673",
   "metadata": {},
   "source": [
    "In this part, we will make our Clustering Machine Learning find the species themselves.\n",
    "We will remove the species column and our models will use KMeans, DBScan and  "
   ]
  },
  {
   "cell_type": "code",
   "execution_count": 29,
   "id": "c9280d1a",
   "metadata": {
    "ExecuteTime": {
     "end_time": "2022-02-10T13:11:49.596291Z",
     "start_time": "2022-02-10T13:11:49.567368Z"
    },
    "collapsed": true
   },
   "outputs": [
    {
     "data": {
      "text/plain": [
       "array([[-9.00681170e-01,  1.01900435e+00, -1.34022653e+00,\n",
       "        -1.31544430e+00],\n",
       "       [-1.14301691e+00, -1.31979479e-01, -1.34022653e+00,\n",
       "        -1.31544430e+00],\n",
       "       [-1.38535265e+00,  3.28414053e-01, -1.39706395e+00,\n",
       "        -1.31544430e+00],\n",
       "       [-1.50652052e+00,  9.82172869e-02, -1.28338910e+00,\n",
       "        -1.31544430e+00],\n",
       "       [-1.02184904e+00,  1.24920112e+00, -1.34022653e+00,\n",
       "        -1.31544430e+00],\n",
       "       [-5.37177559e-01,  1.93979142e+00, -1.16971425e+00,\n",
       "        -1.05217993e+00],\n",
       "       [-1.50652052e+00,  7.88807586e-01, -1.34022653e+00,\n",
       "        -1.18381211e+00],\n",
       "       [-1.02184904e+00,  7.88807586e-01, -1.28338910e+00,\n",
       "        -1.31544430e+00],\n",
       "       [-1.74885626e+00, -3.62176246e-01, -1.34022653e+00,\n",
       "        -1.31544430e+00],\n",
       "       [-1.14301691e+00,  9.82172869e-02, -1.28338910e+00,\n",
       "        -1.44707648e+00],\n",
       "       [-5.37177559e-01,  1.47939788e+00, -1.28338910e+00,\n",
       "        -1.31544430e+00],\n",
       "       [-1.26418478e+00,  7.88807586e-01, -1.22655167e+00,\n",
       "        -1.31544430e+00],\n",
       "       [-1.26418478e+00, -1.31979479e-01, -1.34022653e+00,\n",
       "        -1.44707648e+00],\n",
       "       [-1.87002413e+00, -1.31979479e-01, -1.51073881e+00,\n",
       "        -1.44707648e+00],\n",
       "       [-5.25060772e-02,  2.16998818e+00, -1.45390138e+00,\n",
       "        -1.31544430e+00],\n",
       "       [-1.73673948e-01,  3.09077525e+00, -1.28338910e+00,\n",
       "        -1.05217993e+00],\n",
       "       [-5.37177559e-01,  1.93979142e+00, -1.39706395e+00,\n",
       "        -1.05217993e+00],\n",
       "       [-9.00681170e-01,  1.01900435e+00, -1.34022653e+00,\n",
       "        -1.18381211e+00],\n",
       "       [-1.73673948e-01,  1.70959465e+00, -1.16971425e+00,\n",
       "        -1.18381211e+00],\n",
       "       [-9.00681170e-01,  1.70959465e+00, -1.28338910e+00,\n",
       "        -1.18381211e+00],\n",
       "       [-5.37177559e-01,  7.88807586e-01, -1.16971425e+00,\n",
       "        -1.31544430e+00],\n",
       "       [-9.00681170e-01,  1.47939788e+00, -1.28338910e+00,\n",
       "        -1.05217993e+00],\n",
       "       [-1.50652052e+00,  1.24920112e+00, -1.56757623e+00,\n",
       "        -1.31544430e+00],\n",
       "       [-9.00681170e-01,  5.58610819e-01, -1.16971425e+00,\n",
       "        -9.20547742e-01],\n",
       "       [-1.26418478e+00,  7.88807586e-01, -1.05603939e+00,\n",
       "        -1.31544430e+00],\n",
       "       [-1.02184904e+00, -1.31979479e-01, -1.22655167e+00,\n",
       "        -1.31544430e+00],\n",
       "       [-1.02184904e+00,  7.88807586e-01, -1.22655167e+00,\n",
       "        -1.05217993e+00],\n",
       "       [-7.79513300e-01,  1.01900435e+00, -1.28338910e+00,\n",
       "        -1.31544430e+00],\n",
       "       [-7.79513300e-01,  7.88807586e-01, -1.34022653e+00,\n",
       "        -1.31544430e+00],\n",
       "       [-1.38535265e+00,  3.28414053e-01, -1.22655167e+00,\n",
       "        -1.31544430e+00],\n",
       "       [-1.26418478e+00,  9.82172869e-02, -1.22655167e+00,\n",
       "        -1.31544430e+00],\n",
       "       [-5.37177559e-01,  7.88807586e-01, -1.28338910e+00,\n",
       "        -1.05217993e+00],\n",
       "       [-7.79513300e-01,  2.40018495e+00, -1.28338910e+00,\n",
       "        -1.44707648e+00],\n",
       "       [-4.16009689e-01,  2.63038172e+00, -1.34022653e+00,\n",
       "        -1.31544430e+00],\n",
       "       [-1.14301691e+00,  9.82172869e-02, -1.28338910e+00,\n",
       "        -1.31544430e+00],\n",
       "       [-1.02184904e+00,  3.28414053e-01, -1.45390138e+00,\n",
       "        -1.31544430e+00],\n",
       "       [-4.16009689e-01,  1.01900435e+00, -1.39706395e+00,\n",
       "        -1.31544430e+00],\n",
       "       [-1.14301691e+00,  1.24920112e+00, -1.34022653e+00,\n",
       "        -1.44707648e+00],\n",
       "       [-1.74885626e+00, -1.31979479e-01, -1.39706395e+00,\n",
       "        -1.31544430e+00],\n",
       "       [-9.00681170e-01,  7.88807586e-01, -1.28338910e+00,\n",
       "        -1.31544430e+00],\n",
       "       [-1.02184904e+00,  1.01900435e+00, -1.39706395e+00,\n",
       "        -1.18381211e+00],\n",
       "       [-1.62768839e+00, -1.74335684e+00, -1.39706395e+00,\n",
       "        -1.18381211e+00],\n",
       "       [-1.74885626e+00,  3.28414053e-01, -1.39706395e+00,\n",
       "        -1.31544430e+00],\n",
       "       [-1.02184904e+00,  1.01900435e+00, -1.22655167e+00,\n",
       "        -7.88915558e-01],\n",
       "       [-9.00681170e-01,  1.70959465e+00, -1.05603939e+00,\n",
       "        -1.05217993e+00],\n",
       "       [-1.26418478e+00, -1.31979479e-01, -1.34022653e+00,\n",
       "        -1.18381211e+00],\n",
       "       [-9.00681170e-01,  1.70959465e+00, -1.22655167e+00,\n",
       "        -1.31544430e+00],\n",
       "       [-1.50652052e+00,  3.28414053e-01, -1.34022653e+00,\n",
       "        -1.31544430e+00],\n",
       "       [-6.58345429e-01,  1.47939788e+00, -1.28338910e+00,\n",
       "        -1.31544430e+00],\n",
       "       [-1.02184904e+00,  5.58610819e-01, -1.34022653e+00,\n",
       "        -1.31544430e+00],\n",
       "       [ 1.40150837e+00,  3.28414053e-01,  5.35408562e-01,\n",
       "         2.64141916e-01],\n",
       "       [ 6.74501145e-01,  3.28414053e-01,  4.21733708e-01,\n",
       "         3.95774101e-01],\n",
       "       [ 1.28034050e+00,  9.82172869e-02,  6.49083415e-01,\n",
       "         3.95774101e-01],\n",
       "       [-4.16009689e-01, -1.74335684e+00,  1.37546573e-01,\n",
       "         1.32509732e-01],\n",
       "       [ 7.95669016e-01, -5.92373012e-01,  4.78571135e-01,\n",
       "         3.95774101e-01],\n",
       "       [-1.73673948e-01, -5.92373012e-01,  4.21733708e-01,\n",
       "         1.32509732e-01],\n",
       "       [ 5.53333275e-01,  5.58610819e-01,  5.35408562e-01,\n",
       "         5.27406285e-01],\n",
       "       [-1.14301691e+00, -1.51316008e+00, -2.60315415e-01,\n",
       "        -2.62386821e-01],\n",
       "       [ 9.16836886e-01, -3.62176246e-01,  4.78571135e-01,\n",
       "         1.32509732e-01],\n",
       "       [-7.79513300e-01, -8.22569778e-01,  8.07091462e-02,\n",
       "         2.64141916e-01],\n",
       "       [-1.02184904e+00, -2.43394714e+00, -1.46640561e-01,\n",
       "        -2.62386821e-01],\n",
       "       [ 6.86617933e-02, -1.31979479e-01,  2.51221427e-01,\n",
       "         3.95774101e-01],\n",
       "       [ 1.89829664e-01, -1.97355361e+00,  1.37546573e-01,\n",
       "        -2.62386821e-01],\n",
       "       [ 3.10997534e-01, -3.62176246e-01,  5.35408562e-01,\n",
       "         2.64141916e-01],\n",
       "       [-2.94841818e-01, -3.62176246e-01, -8.98031345e-02,\n",
       "         1.32509732e-01],\n",
       "       [ 1.03800476e+00,  9.82172869e-02,  3.64896281e-01,\n",
       "         2.64141916e-01],\n",
       "       [-2.94841818e-01, -1.31979479e-01,  4.21733708e-01,\n",
       "         3.95774101e-01],\n",
       "       [-5.25060772e-02, -8.22569778e-01,  1.94384000e-01,\n",
       "        -2.62386821e-01],\n",
       "       [ 4.32165405e-01, -1.97355361e+00,  4.21733708e-01,\n",
       "         3.95774101e-01],\n",
       "       [-2.94841818e-01, -1.28296331e+00,  8.07091462e-02,\n",
       "        -1.30754636e-01],\n",
       "       [ 6.86617933e-02,  3.28414053e-01,  5.92245988e-01,\n",
       "         7.90670654e-01],\n",
       "       [ 3.10997534e-01, -5.92373012e-01,  1.37546573e-01,\n",
       "         1.32509732e-01],\n",
       "       [ 5.53333275e-01, -1.28296331e+00,  6.49083415e-01,\n",
       "         3.95774101e-01],\n",
       "       [ 3.10997534e-01, -5.92373012e-01,  5.35408562e-01,\n",
       "         8.77547895e-04],\n",
       "       [ 6.74501145e-01, -3.62176246e-01,  3.08058854e-01,\n",
       "         1.32509732e-01],\n",
       "       [ 9.16836886e-01, -1.31979479e-01,  3.64896281e-01,\n",
       "         2.64141916e-01],\n",
       "       [ 1.15917263e+00, -5.92373012e-01,  5.92245988e-01,\n",
       "         2.64141916e-01],\n",
       "       [ 1.03800476e+00, -1.31979479e-01,  7.05920842e-01,\n",
       "         6.59038469e-01],\n",
       "       [ 1.89829664e-01, -3.62176246e-01,  4.21733708e-01,\n",
       "         3.95774101e-01],\n",
       "       [-1.73673948e-01, -1.05276654e+00, -1.46640561e-01,\n",
       "        -2.62386821e-01],\n",
       "       [-4.16009689e-01, -1.51316008e+00,  2.38717193e-02,\n",
       "        -1.30754636e-01],\n",
       "       [-4.16009689e-01, -1.51316008e+00, -3.29657076e-02,\n",
       "        -2.62386821e-01],\n",
       "       [-5.25060772e-02, -8.22569778e-01,  8.07091462e-02,\n",
       "         8.77547895e-04],\n",
       "       [ 1.89829664e-01, -8.22569778e-01,  7.62758269e-01,\n",
       "         5.27406285e-01],\n",
       "       [-5.37177559e-01, -1.31979479e-01,  4.21733708e-01,\n",
       "         3.95774101e-01],\n",
       "       [ 1.89829664e-01,  7.88807586e-01,  4.21733708e-01,\n",
       "         5.27406285e-01],\n",
       "       [ 1.03800476e+00,  9.82172869e-02,  5.35408562e-01,\n",
       "         3.95774101e-01],\n",
       "       [ 5.53333275e-01, -1.74335684e+00,  3.64896281e-01,\n",
       "         1.32509732e-01],\n",
       "       [-2.94841818e-01, -1.31979479e-01,  1.94384000e-01,\n",
       "         1.32509732e-01],\n",
       "       [-4.16009689e-01, -1.28296331e+00,  1.37546573e-01,\n",
       "         1.32509732e-01],\n",
       "       [-4.16009689e-01, -1.05276654e+00,  3.64896281e-01,\n",
       "         8.77547895e-04],\n",
       "       [ 3.10997534e-01, -1.31979479e-01,  4.78571135e-01,\n",
       "         2.64141916e-01],\n",
       "       [-5.25060772e-02, -1.05276654e+00,  1.37546573e-01,\n",
       "         8.77547895e-04],\n",
       "       [-1.02184904e+00, -1.74335684e+00, -2.60315415e-01,\n",
       "        -2.62386821e-01],\n",
       "       [-2.94841818e-01, -8.22569778e-01,  2.51221427e-01,\n",
       "         1.32509732e-01],\n",
       "       [-1.73673948e-01, -1.31979479e-01,  2.51221427e-01,\n",
       "         8.77547895e-04],\n",
       "       [-1.73673948e-01, -3.62176246e-01,  2.51221427e-01,\n",
       "         1.32509732e-01],\n",
       "       [ 4.32165405e-01, -3.62176246e-01,  3.08058854e-01,\n",
       "         1.32509732e-01],\n",
       "       [-9.00681170e-01, -1.28296331e+00, -4.30827696e-01,\n",
       "        -1.30754636e-01],\n",
       "       [-1.73673948e-01, -5.92373012e-01,  1.94384000e-01,\n",
       "         1.32509732e-01],\n",
       "       [ 5.53333275e-01,  5.58610819e-01,  1.27429511e+00,\n",
       "         1.71209594e+00],\n",
       "       [-5.25060772e-02, -8.22569778e-01,  7.62758269e-01,\n",
       "         9.22302838e-01],\n",
       "       [ 1.52267624e+00, -1.31979479e-01,  1.21745768e+00,\n",
       "         1.18556721e+00],\n",
       "       [ 5.53333275e-01, -3.62176246e-01,  1.04694540e+00,\n",
       "         7.90670654e-01],\n",
       "       [ 7.95669016e-01, -1.31979479e-01,  1.16062026e+00,\n",
       "         1.31719939e+00],\n",
       "       [ 2.12851559e+00, -1.31979479e-01,  1.61531967e+00,\n",
       "         1.18556721e+00],\n",
       "       [-1.14301691e+00, -1.28296331e+00,  4.21733708e-01,\n",
       "         6.59038469e-01],\n",
       "       [ 1.76501198e+00, -3.62176246e-01,  1.44480739e+00,\n",
       "         7.90670654e-01],\n",
       "       [ 1.03800476e+00, -1.28296331e+00,  1.16062026e+00,\n",
       "         7.90670654e-01],\n",
       "       [ 1.64384411e+00,  1.24920112e+00,  1.33113254e+00,\n",
       "         1.71209594e+00],\n",
       "       [ 7.95669016e-01,  3.28414053e-01,  7.62758269e-01,\n",
       "         1.05393502e+00],\n",
       "       [ 6.74501145e-01, -8.22569778e-01,  8.76433123e-01,\n",
       "         9.22302838e-01],\n",
       "       [ 1.15917263e+00, -1.31979479e-01,  9.90107977e-01,\n",
       "         1.18556721e+00],\n",
       "       [-1.73673948e-01, -1.28296331e+00,  7.05920842e-01,\n",
       "         1.05393502e+00],\n",
       "       [-5.25060772e-02, -5.92373012e-01,  7.62758269e-01,\n",
       "         1.58046376e+00],\n",
       "       [ 6.74501145e-01,  3.28414053e-01,  8.76433123e-01,\n",
       "         1.44883158e+00],\n",
       "       [ 7.95669016e-01, -1.31979479e-01,  9.90107977e-01,\n",
       "         7.90670654e-01],\n",
       "       [ 2.24968346e+00,  1.70959465e+00,  1.67215710e+00,\n",
       "         1.31719939e+00],\n",
       "       [ 2.24968346e+00, -1.05276654e+00,  1.78583195e+00,\n",
       "         1.44883158e+00],\n",
       "       [ 1.89829664e-01, -1.97355361e+00,  7.05920842e-01,\n",
       "         3.95774101e-01],\n",
       "       [ 1.28034050e+00,  3.28414053e-01,  1.10378283e+00,\n",
       "         1.44883158e+00],\n",
       "       [-2.94841818e-01, -5.92373012e-01,  6.49083415e-01,\n",
       "         1.05393502e+00],\n",
       "       [ 2.24968346e+00, -5.92373012e-01,  1.67215710e+00,\n",
       "         1.05393502e+00],\n",
       "       [ 5.53333275e-01, -8.22569778e-01,  6.49083415e-01,\n",
       "         7.90670654e-01],\n",
       "       [ 1.03800476e+00,  5.58610819e-01,  1.10378283e+00,\n",
       "         1.18556721e+00],\n",
       "       [ 1.64384411e+00,  3.28414053e-01,  1.27429511e+00,\n",
       "         7.90670654e-01],\n",
       "       [ 4.32165405e-01, -5.92373012e-01,  5.92245988e-01,\n",
       "         7.90670654e-01],\n",
       "       [ 3.10997534e-01, -1.31979479e-01,  6.49083415e-01,\n",
       "         7.90670654e-01],\n",
       "       [ 6.74501145e-01, -5.92373012e-01,  1.04694540e+00,\n",
       "         1.18556721e+00],\n",
       "       [ 1.64384411e+00, -1.31979479e-01,  1.16062026e+00,\n",
       "         5.27406285e-01],\n",
       "       [ 1.88617985e+00, -5.92373012e-01,  1.33113254e+00,\n",
       "         9.22302838e-01],\n",
       "       [ 2.49201920e+00,  1.70959465e+00,  1.50164482e+00,\n",
       "         1.05393502e+00],\n",
       "       [ 6.74501145e-01, -5.92373012e-01,  1.04694540e+00,\n",
       "         1.31719939e+00],\n",
       "       [ 5.53333275e-01, -5.92373012e-01,  7.62758269e-01,\n",
       "         3.95774101e-01],\n",
       "       [ 3.10997534e-01, -1.05276654e+00,  1.04694540e+00,\n",
       "         2.64141916e-01],\n",
       "       [ 2.24968346e+00, -1.31979479e-01,  1.33113254e+00,\n",
       "         1.44883158e+00],\n",
       "       [ 5.53333275e-01,  7.88807586e-01,  1.04694540e+00,\n",
       "         1.58046376e+00],\n",
       "       [ 6.74501145e-01,  9.82172869e-02,  9.90107977e-01,\n",
       "         7.90670654e-01],\n",
       "       [ 1.89829664e-01, -1.31979479e-01,  5.92245988e-01,\n",
       "         7.90670654e-01],\n",
       "       [ 1.28034050e+00,  9.82172869e-02,  9.33270550e-01,\n",
       "         1.18556721e+00],\n",
       "       [ 1.03800476e+00,  9.82172869e-02,  1.04694540e+00,\n",
       "         1.58046376e+00],\n",
       "       [ 1.28034050e+00,  9.82172869e-02,  7.62758269e-01,\n",
       "         1.44883158e+00],\n",
       "       [-5.25060772e-02, -8.22569778e-01,  7.62758269e-01,\n",
       "         9.22302838e-01],\n",
       "       [ 1.15917263e+00,  3.28414053e-01,  1.21745768e+00,\n",
       "         1.44883158e+00],\n",
       "       [ 1.03800476e+00,  5.58610819e-01,  1.10378283e+00,\n",
       "         1.71209594e+00],\n",
       "       [ 1.03800476e+00, -1.31979479e-01,  8.19595696e-01,\n",
       "         1.44883158e+00],\n",
       "       [ 5.53333275e-01, -1.28296331e+00,  7.05920842e-01,\n",
       "         9.22302838e-01],\n",
       "       [ 7.95669016e-01, -1.31979479e-01,  8.19595696e-01,\n",
       "         1.05393502e+00],\n",
       "       [ 4.32165405e-01,  7.88807586e-01,  9.33270550e-01,\n",
       "         1.44883158e+00],\n",
       "       [ 6.86617933e-02, -1.31979479e-01,  7.62758269e-01,\n",
       "         7.90670654e-01]])"
      ]
     },
     "execution_count": 29,
     "metadata": {},
     "output_type": "execute_result"
    }
   ],
   "source": [
    "clustering_data = data.copy()\n",
    "clustering_data.pop('species')\n",
    "X = StandardScaler().fit_transform(clustering_data)\n",
    "X"
   ]
  },
  {
   "cell_type": "markdown",
   "id": "89299fd2",
   "metadata": {},
   "source": [
    "## KMeans"
   ]
  },
  {
   "cell_type": "markdown",
   "id": "fa86869e",
   "metadata": {},
   "source": [
    "### Finding the K number "
   ]
  },
  {
   "cell_type": "code",
   "execution_count": 30,
   "id": "cd739322",
   "metadata": {
    "ExecuteTime": {
     "end_time": "2022-02-10T13:11:50.427670Z",
     "start_time": "2022-02-10T13:11:49.598286Z"
    }
   },
   "outputs": [
    {
     "data": {
      "image/png": "[encoded data removed]",
      "text/plain": [
       "<Figure size 720x360 with 1 Axes>"
      ]
     },
     "metadata": {
      "needs_background": "light"
     },
     "output_type": "display_data"
    }
   ],
   "source": [
    "wcss = []\n",
    "for i in range(1, 11):\n",
    "    kmeans = KMeans(n_clusters = i, init = 'k-means++', random_state = 42)\n",
    "    kmeans.fit(X)\n",
    "    # inertia method returns wcss for that model\n",
    "    wcss.append(kmeans.inertia_)\n",
    "    \n",
    "plt.figure(figsize=(10,5))\n",
    "sns.lineplot(range(1, 11), wcss,marker='o',color='red')\n",
    "plt.title('The Elbow Method')\n",
    "plt.xlabel('Number of clusters')\n",
    "plt.ylabel('WCSS')\n",
    "plt.show()"
   ]
  },
  {
   "cell_type": "markdown",
   "id": "92e6bee8",
   "metadata": {},
   "source": [
    "Using the elbow method, we found that the number of clusters is around 3."
   ]
  },
  {
   "cell_type": "markdown",
   "id": "6b76f612",
   "metadata": {},
   "source": [
    "### Model Fitting"
   ]
  },
  {
   "cell_type": "code",
   "execution_count": 31,
   "id": "8d70bfd7",
   "metadata": {
    "ExecuteTime": {
     "end_time": "2022-02-10T13:11:50.473511Z",
     "start_time": "2022-02-10T13:11:50.429648Z"
    }
   },
   "outputs": [],
   "source": [
    "k = 3\n",
    "kmeans = KMeans(n_clusters = k, init = 'k-means++', random_state = 42)\n",
    "y_kmeans = kmeans.fit_predict(X)"
   ]
  },
  {
   "cell_type": "markdown",
   "id": "90911404",
   "metadata": {},
   "source": [
    "### Clusters Visualisation"
   ]
  },
  {
   "cell_type": "code",
   "execution_count": 32,
   "id": "637efdfc",
   "metadata": {
    "ExecuteTime": {
     "end_time": "2022-02-10T13:11:50.712397Z",
     "start_time": "2022-02-10T13:11:50.475506Z"
    }
   },
   "outputs": [
    {
     "data": {
      "image/png": "[encoded data removed]",
      "text/plain": [
       "<Figure size 1080x504 with 1 Axes>"
      ]
     },
     "metadata": {
      "needs_background": "light"
     },
     "output_type": "display_data"
    }
   ],
   "source": [
    "plt.figure(figsize=(15,7))\n",
    "sns.scatterplot(X[y_kmeans == 0, 0], X[y_kmeans == 0, 1], color = 'yellow', label = 'Cluster 1',s=50)\n",
    "sns.scatterplot(X[y_kmeans == 1, 0], X[y_kmeans == 1, 1], color = 'blue', label = 'Cluster 2',s=50)\n",
    "sns.scatterplot(X[y_kmeans == 2, 0], X[y_kmeans == 2, 1], color = 'green', label = 'Cluster 3',s=50)\n",
    "sns.scatterplot(kmeans.cluster_centers_[:, 0], kmeans.cluster_centers_[:, 1], color = 'red', \n",
    "                label = 'Centroids',s=300,marker=',')\n",
    "\n",
    "plt.grid(False)\n",
    "plt.title('Clusters of customers')\n",
    "plt.legend()\n",
    "plt.show()"
   ]
  },
  {
   "cell_type": "markdown",
   "id": "58a367e0",
   "metadata": {},
   "source": [
    "### Model Evaluation"
   ]
  },
  {
   "cell_type": "code",
   "execution_count": 35,
   "id": "bdbbbed3",
   "metadata": {
    "ExecuteTime": {
     "end_time": "2022-02-10T13:12:14.053804Z",
     "start_time": "2022-02-10T13:12:14.008925Z"
    },
    "scrolled": true
   },
   "outputs": [
    {
     "name": "stdout",
     "output_type": "stream",
     "text": [
      "Silhouette Score:  0.45994823920518646\n",
      "CH Score:  241.90440170183172\n",
      "DB Score 0.8335949464754334\n"
     ]
    }
   ],
   "source": [
    "print(\"Silhouette Score: \", silhouette_score(X, kmeans.fit_predict(X)))\n",
    "print(\"CH Score: \", calinski_harabasz_score(X, kmeans.labels_))\n",
    "print(\"DB Score\", davies_bouldin_score(X, kmeans.labels_))"
   ]
  },
  {
   "cell_type": "markdown",
   "id": "9c092174",
   "metadata": {},
   "source": [
    "## DBScan"
   ]
  },
  {
   "cell_type": "code",
   "execution_count": 38,
   "id": "c5854b67",
   "metadata": {
    "ExecuteTime": {
     "end_time": "2022-02-10T13:13:55.940999Z",
     "start_time": "2022-02-10T13:13:55.923082Z"
    }
   },
   "outputs": [
    {
     "name": "stdout",
     "output_type": "stream",
     "text": [
      "Silhouette Score:  0.5327643143788214\n",
      "CH Score:  111.63602513891834\n",
      "DB Score:  3.810624104494639\n"
     ]
    }
   ],
   "source": [
    "epsilon = 1.0\n",
    "min_samples = 13\n",
    "\n",
    "db = DBSCAN(eps=epsilon, min_samples=min_samples)\n",
    "dbfit = db.fit(X)\n",
    "\"\"\"\n",
    "no_clusters = len(np.unique(labels) )\n",
    "no_noise = np.sum(np.array(labels) == -1, axis=0)\n",
    "\"\"\"\n",
    "print(\"Silhouette Score: \", silhouette_score(X, db.fit_predict(X)))\n",
    "print(\"CH Score: \", calinski_harabasz_score(X, db.labels_))\n",
    "print(\"DB Score: \", davies_bouldin_score(X, db.labels_))"
   ]
  },
  {
   "cell_type": "markdown",
   "id": "ba96a158",
   "metadata": {},
   "source": [
    "## Agglomerative Clustering"
   ]
  },
  {
   "cell_type": "markdown",
   "id": "5fd286fb",
   "metadata": {},
   "source": [
    "### Model Fitting"
   ]
  },
  {
   "cell_type": "code",
   "execution_count": 39,
   "id": "0c0cd82b",
   "metadata": {
    "ExecuteTime": {
     "end_time": "2022-02-10T13:14:18.987644Z",
     "start_time": "2022-02-10T13:14:18.956704Z"
    },
    "collapsed": true
   },
   "outputs": [
    {
     "name": "stdout",
     "output_type": "stream",
     "text": [
      "AgglomerativeClustering(n_clusters=3)\n"
     ]
    },
    {
     "data": {
      "text/plain": [
       "AgglomerativeClustering(n_clusters=3)"
      ]
     },
     "execution_count": 39,
     "metadata": {},
     "output_type": "execute_result"
    }
   ],
   "source": [
    "aggloclust=AgglomerativeClustering(n_clusters=3).fit(X)\n",
    "print(aggloclust)\n",
    "AgglomerativeClustering(affinity='euclidean', compute_full_tree='auto',\n",
    "            connectivity=None, linkage='ward', memory=None, n_clusters=3)"
   ]
  },
  {
   "cell_type": "markdown",
   "id": "bbf0efd6",
   "metadata": {},
   "source": [
    "### Three clusters visualisation"
   ]
  },
  {
   "cell_type": "code",
   "execution_count": 40,
   "id": "8b7886f0",
   "metadata": {
    "ExecuteTime": {
     "end_time": "2022-02-10T13:14:19.081394Z",
     "start_time": "2022-02-10T13:14:18.989600Z"
    }
   },
   "outputs": [
    {
     "data": {
      "image/png": "[encoded data removed]",
      "text/plain": [
       "<Figure size 432x288 with 1 Axes>"
      ]
     },
     "metadata": {
      "needs_background": "light"
     },
     "output_type": "display_data"
    }
   ],
   "source": [
    "labels = aggloclust.labels_\n",
    "plt.scatter(X[:,0], X[:,1], c=labels)\n",
    "plt.show()"
   ]
  },
  {
   "cell_type": "markdown",
   "id": "263ad797",
   "metadata": {},
   "source": [
    "### Testing different numbers of clusters"
   ]
  },
  {
   "cell_type": "code",
   "execution_count": 41,
   "id": "57a4106a",
   "metadata": {
    "ExecuteTime": {
     "end_time": "2022-02-10T13:14:19.522566Z",
     "start_time": "2022-02-10T13:14:19.082353Z"
    }
   },
   "outputs": [
    {
     "name": "stdout",
     "output_type": "stream",
     "text": [
      "For k =  2 silhouette_score ==  0.5770346019475988\n",
      "CH Score:  240.24566522437965\n",
      "DB Score:  0.5916560992933364\n",
      "___\n",
      "For k =  3 silhouette_score ==  0.446689041028591\n",
      "CH Score:  222.7191638221536\n",
      "DB Score:  0.803466530287675\n",
      "___\n",
      "For k =  4 silhouette_score ==  0.40063631598559735\n",
      "CH Score:  201.2514543140406\n",
      "DB Score:  0.9788214982592803\n",
      "___\n",
      "For k =  5 silhouette_score ==  0.33058726295230545\n",
      "CH Score:  192.68128271764135\n",
      "DB Score:  0.974249231312182\n",
      "___\n"
     ]
    },
    {
     "data": {
      "image/png": "[encoded data removed]",
      "text/plain": [
       "<Figure size 432x288 with 5 Axes>"
      ]
     },
     "metadata": {
      "needs_background": "light"
     },
     "output_type": "display_data"
    }
   ],
   "source": [
    "silhouette_scores = []\n",
    "f = plt.figure()\n",
    "f.add_subplot(2, 2, 1)\n",
    "for i in range(2, 6):\n",
    "    ac = AgglomerativeClustering(n_clusters=i)\n",
    "    aggloclust=ac.fit(X)\n",
    "    print(\"For k = \", i, \"silhouette_score == \", silhouette_score(X, ac.fit_predict(X)))\n",
    "    print(\"CH Score: \", calinski_harabasz_score(X, ac.labels_))\n",
    "    print(\"DB Score: \", davies_bouldin_score(X, ac.labels_))\n",
    "    print(\"___\")\n",
    "    f.add_subplot(2, 2, i-1)\n",
    "    plt.scatter(X[:,0], X[:,1], s=5, c=aggloclust.labels_, label=\"n_cluster-\"+str(i))\n",
    "    plt.legend()\n",
    "plt.show()"
   ]
  }
 ],
 "metadata": {
  "kernelspec": {
   "display_name": "Python 3 (ipykernel)",
   "language": "python",
   "name": "python3"
  },
  "language_info": {
   "codemirror_mode": {
    "name": "ipython",
    "version": 3
   },
   "file_extension": ".py",
   "mimetype": "text/x-python",
   "name": "python",
   "nbconvert_exporter": "python",
   "pygments_lexer": "ipython3",
   "version": "3.9.6"
  }
 },
 "nbformat": 4,
 "nbformat_minor": 5
}
