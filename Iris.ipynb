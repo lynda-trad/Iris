{
 "cells": [
  {
   "cell_type": "markdown",
   "id": "379d22a7",
   "metadata": {},
   "source": [
    "# Iris"
   ]
  },
  {
   "cell_type": "markdown",
   "id": "3df99e6a",
   "metadata": {},
   "source": [
    "We are given a dataset in which are registered flowers and their caracteristics.\n",
    "We have to classify the said flowers in different groups thanks to machine learning."
   ]
  },
  {
   "cell_type": "markdown",
   "id": "311acb5e",
   "metadata": {},
   "source": [
    "# Summary"
   ]
  },
  {
   "cell_type": "markdown",
   "id": "84718fe2",
   "metadata": {},
   "source": [
    "* Sepal length, width and species correlation\n",
    "* Petal length, width and species correlation\n",
    "* Global correlation box\n",
    "\n",
    "\n",
    "* Logistic Regression Model"
   ]
  },
  {
   "cell_type": "markdown",
   "id": "c04a2977",
   "metadata": {},
   "source": [
    "# Library used"
   ]
  },
  {
   "cell_type": "code",
   "execution_count": 40,
   "id": "f043dbed",
   "metadata": {},
   "outputs": [],
   "source": [
    "import numpy as np\n",
    "import pandas as pd\n",
    "from pandas import Series, DataFrame\n",
    "import seaborn as sns\n",
    "import matplotlib.pyplot as plt\n",
    "\n",
    "# Machine Learning Library\n",
    "from sklearn.linear_model import LogisticRegression\n",
    "from sklearn.metrics import classification_report, accuracy_score\n",
    "from sklearn.model_selection import train_test_split\n",
    "\n",
    "from warnings import filterwarnings\n",
    "filterwarnings('ignore')"
   ]
  },
  {
   "cell_type": "markdown",
   "id": "673b8cd7",
   "metadata": {},
   "source": [
    "## Importing the data"
   ]
  },
  {
   "cell_type": "code",
   "execution_count": 41,
   "id": "ab3210d7",
   "metadata": {},
   "outputs": [
    {
     "data": {
      "text/html": [
       "<div>\n",
       "<style scoped>\n",
       "    .dataframe tbody tr th:only-of-type {\n",
       "        vertical-align: middle;\n",
       "    }\n",
       "\n",
       "    .dataframe tbody tr th {\n",
       "        vertical-align: top;\n",
       "    }\n",
       "\n",
       "    .dataframe thead th {\n",
       "        text-align: right;\n",
       "    }\n",
       "</style>\n",
       "<table border=\"1\" class=\"dataframe\">\n",
       "  <thead>\n",
       "    <tr style=\"text-align: right;\">\n",
       "      <th></th>\n",
       "      <th>sepal_length</th>\n",
       "      <th>sepal_width</th>\n",
       "      <th>petal_length</th>\n",
       "      <th>petal_width</th>\n",
       "      <th>species</th>\n",
       "    </tr>\n",
       "  </thead>\n",
       "  <tbody>\n",
       "    <tr>\n",
       "      <th>0</th>\n",
       "      <td>5.1</td>\n",
       "      <td>3.5</td>\n",
       "      <td>1.4</td>\n",
       "      <td>0.2</td>\n",
       "      <td>setosa</td>\n",
       "    </tr>\n",
       "    <tr>\n",
       "      <th>1</th>\n",
       "      <td>4.9</td>\n",
       "      <td>3.0</td>\n",
       "      <td>1.4</td>\n",
       "      <td>0.2</td>\n",
       "      <td>setosa</td>\n",
       "    </tr>\n",
       "    <tr>\n",
       "      <th>2</th>\n",
       "      <td>4.7</td>\n",
       "      <td>3.2</td>\n",
       "      <td>1.3</td>\n",
       "      <td>0.2</td>\n",
       "      <td>setosa</td>\n",
       "    </tr>\n",
       "    <tr>\n",
       "      <th>3</th>\n",
       "      <td>4.6</td>\n",
       "      <td>3.1</td>\n",
       "      <td>1.5</td>\n",
       "      <td>0.2</td>\n",
       "      <td>setosa</td>\n",
       "    </tr>\n",
       "    <tr>\n",
       "      <th>4</th>\n",
       "      <td>5.0</td>\n",
       "      <td>3.6</td>\n",
       "      <td>1.4</td>\n",
       "      <td>0.2</td>\n",
       "      <td>setosa</td>\n",
       "    </tr>\n",
       "    <tr>\n",
       "      <th>...</th>\n",
       "      <td>...</td>\n",
       "      <td>...</td>\n",
       "      <td>...</td>\n",
       "      <td>...</td>\n",
       "      <td>...</td>\n",
       "    </tr>\n",
       "    <tr>\n",
       "      <th>145</th>\n",
       "      <td>6.7</td>\n",
       "      <td>3.0</td>\n",
       "      <td>5.2</td>\n",
       "      <td>2.3</td>\n",
       "      <td>virginica</td>\n",
       "    </tr>\n",
       "    <tr>\n",
       "      <th>146</th>\n",
       "      <td>6.3</td>\n",
       "      <td>2.5</td>\n",
       "      <td>5.0</td>\n",
       "      <td>1.9</td>\n",
       "      <td>virginica</td>\n",
       "    </tr>\n",
       "    <tr>\n",
       "      <th>147</th>\n",
       "      <td>6.5</td>\n",
       "      <td>3.0</td>\n",
       "      <td>5.2</td>\n",
       "      <td>2.0</td>\n",
       "      <td>virginica</td>\n",
       "    </tr>\n",
       "    <tr>\n",
       "      <th>148</th>\n",
       "      <td>6.2</td>\n",
       "      <td>3.4</td>\n",
       "      <td>5.4</td>\n",
       "      <td>2.3</td>\n",
       "      <td>virginica</td>\n",
       "    </tr>\n",
       "    <tr>\n",
       "      <th>149</th>\n",
       "      <td>5.9</td>\n",
       "      <td>3.0</td>\n",
       "      <td>5.1</td>\n",
       "      <td>1.8</td>\n",
       "      <td>virginica</td>\n",
       "    </tr>\n",
       "  </tbody>\n",
       "</table>\n",
       "<p>150 rows × 5 columns</p>\n",
       "</div>"
      ],
      "text/plain": [
       "     sepal_length  sepal_width  petal_length  petal_width    species\n",
       "0             5.1          3.5           1.4          0.2     setosa\n",
       "1             4.9          3.0           1.4          0.2     setosa\n",
       "2             4.7          3.2           1.3          0.2     setosa\n",
       "3             4.6          3.1           1.5          0.2     setosa\n",
       "4             5.0          3.6           1.4          0.2     setosa\n",
       "..            ...          ...           ...          ...        ...\n",
       "145           6.7          3.0           5.2          2.3  virginica\n",
       "146           6.3          2.5           5.0          1.9  virginica\n",
       "147           6.5          3.0           5.2          2.0  virginica\n",
       "148           6.2          3.4           5.4          2.3  virginica\n",
       "149           5.9          3.0           5.1          1.8  virginica\n",
       "\n",
       "[150 rows x 5 columns]"
      ]
     },
     "execution_count": 41,
     "metadata": {},
     "output_type": "execute_result"
    }
   ],
   "source": [
    "data = sns.load_dataset(\"iris\")\n",
    "data"
   ]
  },
  {
   "cell_type": "markdown",
   "id": "8d9aaa44",
   "metadata": {},
   "source": [
    "# Missing values"
   ]
  },
  {
   "cell_type": "code",
   "execution_count": 42,
   "id": "901cc514",
   "metadata": {},
   "outputs": [
    {
     "data": {
      "image/png": "[encoded data removed]",
      "text/plain": [
       "<Figure size 432x288 with 2 Axes>"
      ]
     },
     "metadata": {
      "needs_background": "light"
     },
     "output_type": "display_data"
    }
   ],
   "source": [
    "sns.heatmap(data.isnull())\n",
    "plt.show()"
   ]
  },
  {
   "cell_type": "code",
   "execution_count": 43,
   "id": "1b4e31d8",
   "metadata": {},
   "outputs": [
    {
     "data": {
      "text/plain": [
       "sepal_length    0.0\n",
       "sepal_width     0.0\n",
       "petal_length    0.0\n",
       "petal_width     0.0\n",
       "species         0.0\n",
       "dtype: float64"
      ]
     },
     "execution_count": 43,
     "metadata": {},
     "output_type": "execute_result"
    }
   ],
   "source": [
    "(data.isnull().sum()/data.shape[0])*100"
   ]
  },
  {
   "cell_type": "markdown",
   "id": "4c61f93c",
   "metadata": {},
   "source": [
    "The dataset is filled, we can use it safely with no need of cleaning."
   ]
  },
  {
   "cell_type": "markdown",
   "id": "fba6f0e5",
   "metadata": {},
   "source": [
    "# Sepal length, width and species correlation"
   ]
  },
  {
   "cell_type": "code",
   "execution_count": 44,
   "id": "95c0ec4a",
   "metadata": {},
   "outputs": [
    {
     "data": {
      "image/png": "[encoded data removed]",
      "text/plain": [
       "<Figure size 432x288 with 1 Axes>"
      ]
     },
     "metadata": {
      "needs_background": "light"
     },
     "output_type": "display_data"
    }
   ],
   "source": [
    "sepal_species_fig = sns.scatterplot(data=data, x='sepal_length', y='sepal_width', hue='species')\n",
    "plt.legend(loc='upper right')\n",
    "plt.title(\"Sepal length and width per species\")\n",
    "plt.show()"
   ]
  },
  {
   "cell_type": "markdown",
   "id": "177f7d58",
   "metadata": {},
   "source": [
    "By studying the sepal length and width, we can see Iris-setosa clearly distinguish itself from the rest, however the two species left are quite mixed and hard to differentiate."
   ]
  },
  {
   "cell_type": "markdown",
   "id": "0a1215b3",
   "metadata": {},
   "source": [
    "# Petal length, width and species correlation"
   ]
  },
  {
   "cell_type": "code",
   "execution_count": 45,
   "id": "321e9193",
   "metadata": {},
   "outputs": [
    {
     "data": {
      "image/png": "[encoded data removed]",
      "text/plain": [
       "<Figure size 432x288 with 1 Axes>"
      ]
     },
     "metadata": {
      "needs_background": "light"
     },
     "output_type": "display_data"
    }
   ],
   "source": [
    "petal_species_fig = sns.scatterplot(data=data, x='petal_length', y='petal_width', hue='species')\n",
    "plt.title(\"Petal length and width per species\")\n",
    "plt.show()"
   ]
  },
  {
   "cell_type": "markdown",
   "id": "d03122ee",
   "metadata": {},
   "source": [
    "We clearly distinguish clusters depending on the petal length and width : they represent the 3 different species"
   ]
  },
  {
   "cell_type": "markdown",
   "id": "6c7ed48d",
   "metadata": {},
   "source": [
    "# Correlation box"
   ]
  },
  {
   "cell_type": "code",
   "execution_count": 46,
   "id": "ebb3a12e",
   "metadata": {},
   "outputs": [
    {
     "data": {
      "image/png": "[encoded data removed]",
      "text/plain": [
       "<Figure size 432x288 with 2 Axes>"
      ]
     },
     "metadata": {
      "needs_background": "light"
     },
     "output_type": "display_data"
    }
   ],
   "source": [
    "dataplot = sns.heatmap(data.corr(), cmap=\"YlGnBu\", annot=True)\n",
    "plt.show()"
   ]
  },
  {
   "cell_type": "markdown",
   "id": "85fd2676",
   "metadata": {},
   "source": [
    "With this correlation box, we can see a big correlation between petals and sepals length, not so much between sepal width and the rest."
   ]
  },
  {
   "cell_type": "markdown",
   "id": "5358fdce",
   "metadata": {},
   "source": [
    "# Preparing training data"
   ]
  },
  {
   "cell_type": "code",
   "execution_count": 47,
   "id": "996991fe",
   "metadata": {},
   "outputs": [
    {
     "name": "stdout",
     "output_type": "stream",
     "text": [
      "Flowers characteristics columns:\n",
      "    sepal_length  sepal_width  petal_length  petal_width\n",
      "0           5.1          3.5           1.4          0.2\n",
      "1           4.9          3.0           1.4          0.2\n",
      "2           4.7          3.2           1.3          0.2\n",
      "3           4.6          3.1           1.5          0.2\n",
      "4           5.0          3.6           1.4          0.2 \n",
      "\n",
      "Species column:\n",
      " 0    setosa\n",
      "1    setosa\n",
      "2    setosa\n",
      "3    setosa\n",
      "4    setosa\n",
      "Name: species, dtype: object\n"
     ]
    }
   ],
   "source": [
    "# Flowers characteristics columns\n",
    "X= data.iloc[:,:-1]\n",
    "# Species column\n",
    "y= data.iloc[:,-1]\n",
    "print('Flowers characteristics columns:\\n', X.head(), '\\n')\n",
    "print('Species column:\\n', y.head())"
   ]
  },
  {
   "cell_type": "markdown",
   "id": "5be58128",
   "metadata": {},
   "source": [
    "The species column is the target. \n",
    "\n",
    "With machine learning, we want to guess a given flower's species with its characteristics."
   ]
  },
  {
   "cell_type": "markdown",
   "id": "9af69eec",
   "metadata": {},
   "source": [
    "# Slicing the dataset"
   ]
  },
  {
   "cell_type": "code",
   "execution_count": 48,
   "id": "7e8a1a0a",
   "metadata": {},
   "outputs": [],
   "source": [
    "# 80 percent of the dataset is used for the training\n",
    "# 20 percent is used for test\n",
    "x_train, x_test, y_train, y_test = train_test_split(X, y, test_size=0.2, random_state=42)"
   ]
  },
  {
   "cell_type": "markdown",
   "id": "a24394dc",
   "metadata": {},
   "source": [
    "# Logistic Regression Model"
   ]
  },
  {
   "cell_type": "code",
   "execution_count": 49,
   "id": "5f002e31",
   "metadata": {},
   "outputs": [
    {
     "data": {
      "text/plain": [
       "LogisticRegression()"
      ]
     },
     "execution_count": 49,
     "metadata": {},
     "output_type": "execute_result"
    }
   ],
   "source": [
    "model = LogisticRegression()\n",
    "model.fit(x_train, y_train)"
   ]
  },
  {
   "cell_type": "markdown",
   "id": "0c849f10",
   "metadata": {},
   "source": [
    "## Testing model"
   ]
  },
  {
   "cell_type": "code",
   "execution_count": 50,
   "id": "adaf1801",
   "metadata": {},
   "outputs": [
    {
     "name": "stdout",
     "output_type": "stream",
     "text": [
      "Predictions:\n",
      " ['versicolor' 'setosa' 'virginica' 'versicolor' 'versicolor' 'setosa'\n",
      " 'versicolor' 'virginica' 'versicolor' 'versicolor' 'virginica' 'setosa'\n",
      " 'setosa' 'setosa' 'setosa' 'versicolor' 'virginica' 'versicolor'\n",
      " 'versicolor' 'virginica' 'setosa' 'virginica' 'setosa' 'virginica'\n",
      " 'virginica' 'virginica' 'virginica' 'virginica' 'setosa' 'setosa'] \n",
      "\n",
      "Real values:\n",
      " 73     versicolor\n",
      "18         setosa\n",
      "118     virginica\n",
      "78     versicolor\n",
      "76     versicolor\n",
      "31         setosa\n",
      "64     versicolor\n",
      "141     virginica\n",
      "68     versicolor\n",
      "82     versicolor\n",
      "110     virginica\n",
      "12         setosa\n",
      "36         setosa\n",
      "9          setosa\n",
      "19         setosa\n",
      "56     versicolor\n",
      "104     virginica\n",
      "69     versicolor\n",
      "55     versicolor\n",
      "132     virginica\n",
      "29         setosa\n",
      "127     virginica\n",
      "26         setosa\n",
      "128     virginica\n",
      "131     virginica\n",
      "145     virginica\n",
      "108     virginica\n",
      "143     virginica\n",
      "45         setosa\n",
      "30         setosa\n",
      "Name: species, dtype: object\n"
     ]
    }
   ],
   "source": [
    "predictions = model.predict(x_test)\n",
    "print(\"Predictions:\\n\", predictions, '\\n')\n",
    "print(\"Real values:\\n\", y_test)"
   ]
  },
  {
   "cell_type": "markdown",
   "id": "8afdae04",
   "metadata": {},
   "source": [
    "## Model evaluation"
   ]
  },
  {
   "cell_type": "code",
   "execution_count": 51,
   "id": "8678a3e1",
   "metadata": {},
   "outputs": [
    {
     "name": "stdout",
     "output_type": "stream",
     "text": [
      "              precision    recall  f1-score   support\n",
      "\n",
      "      setosa       1.00      1.00      1.00        10\n",
      "  versicolor       1.00      1.00      1.00         9\n",
      "   virginica       1.00      1.00      1.00        11\n",
      "\n",
      "    accuracy                           1.00        30\n",
      "   macro avg       1.00      1.00      1.00        30\n",
      "weighted avg       1.00      1.00      1.00        30\n",
      "\n"
     ]
    }
   ],
   "source": [
    "print(classification_report(y_test, predictions))"
   ]
  },
  {
   "cell_type": "markdown",
   "id": "68a4dfc2",
   "metadata": {},
   "source": [
    "The classification report shows how well the logistic regression model did guessing the flowers' species."
   ]
  },
  {
   "cell_type": "markdown",
   "id": "17ac43b2",
   "metadata": {},
   "source": [
    "#### Accuracy score"
   ]
  },
  {
   "cell_type": "code",
   "execution_count": 52,
   "id": "ed619ed7",
   "metadata": {},
   "outputs": [
    {
     "name": "stdout",
     "output_type": "stream",
     "text": [
      "1.0\n"
     ]
    }
   ],
   "source": [
    "print(accuracy_score(y_test, predictions))"
   ]
  },
  {
   "cell_type": "markdown",
   "id": "6453501a",
   "metadata": {},
   "source": [
    "The logistic regression model has an accuracy score of 1.0, which means it found the right species for every test flower."
   ]
  }
 ],
 "metadata": {
  "kernelspec": {
   "display_name": "Python 3 (ipykernel)",
   "language": "python",
   "name": "python3"
  },
  "language_info": {
   "codemirror_mode": {
    "name": "ipython",
    "version": 3
   },
   "file_extension": ".py",
   "mimetype": "text/x-python",
   "name": "python",
   "nbconvert_exporter": "python",
   "pygments_lexer": "ipython3",
   "version": "3.9.6"
  }
 },
 "nbformat": 4,
 "nbformat_minor": 5
}
